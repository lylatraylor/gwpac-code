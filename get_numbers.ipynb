{
 "cells": [
  {
   "cell_type": "code",
   "execution_count": 2,
   "id": "4a58eb1d-d4a7-44f9-8677-36c711b3e64c",
   "metadata": {},
   "outputs": [],
   "source": [
    "import numpy as np\n",
    "import bilby\n",
    "import pandas as pd\n",
    "import h5py\n",
    "import matplotlib.pyplot as plt\n",
    "import scipy.interpolate as interpolate\n",
    "from scipy.stats import gaussian_kde\n",
    "import os"
   ]
  },
  {
   "cell_type": "code",
   "execution_count": 3,
   "id": "c7cbec85-7c16-4cee-ba3f-e553df594c14",
   "metadata": {},
   "outputs": [],
   "source": [
    "### Units\n",
    "gcm3_to_dynecm2=8.9875e20 \n",
    "MeV_to_gcm3 = 1.7827e12 \n",
    "dynecm2_to_MeVFermi = 1.6022e33\n",
    "gcm3_to_fm4 = 3.5178e14\n",
    "sat_dens = 2.8*(np.power(10.0,14.))\n",
    "c = bilby.core.utils.speed_of_light\n",
    "c_cgs = c*(1e2)\n",
    "\n",
    "### Nucleon mass in grams\n",
    "mass_of_nucleon = 1/(6.02 * 10**23)\n",
    "### Nucleon mass in MeV/c2\n",
    "nucleon_mass_in_MeV = 939\n",
    "### Conversion factors for Mev,fm to CGS units\n",
    "gcm3_to_dynecm2=8.9875e20 \n",
    "MeV_to_gcm3 = 1.7827e12 \n",
    "dynecm2_to_MeVFermi = 1.6022e33\n",
    "gcm3_to_fm4 = 3.5178e14\n",
    "\n",
    "fm_in_cgs = 1e-13\n",
    "rho_nuc_in_cgs = .16 * mass_of_nucleon / (fm_in_cgs)**3"
   ]
  },
  {
   "cell_type": "code",
   "execution_count": 4,
   "id": "5d677511-3bb0-46d0-8088-6088e53e522e",
   "metadata": {},
   "outputs": [],
   "source": [
    "# read h.5 gamma\n",
    "g_1 = h5py.File(\"/home/lyla.traylor/agnosticeosmodel/Metamodel+GP/generated_eoss/g.1_a1._cl.01.h5\")\n",
    "g_3 = h5py.File(\"/home/lyla.traylor/agnosticeosmodel/Metamodel+GP/generated_eoss/g.3_a1._cl.01.h5\")\n",
    "g_4 = h5py.File(\"/home/lyla.traylor/agnosticeosmodel/Metamodel+GP/generated_eoss/g.4_a1._cl.01.h5\")\n",
    "g_5 = h5py.File(\"/home/lyla.traylor/agnosticeosmodel/Metamodel+GP/generated_eoss/g.5_a1._cl.01.h5\")\n",
    "g_7 = h5py.File(\"/home/lyla.traylor/agnosticeosmodel/Metamodel+GP/generated_eoss/g.7_a1._cl.01.h5\")\n",
    "g_8 = h5py.File(\"/home/lyla.traylor/agnosticeosmodel/Metamodel+GP/generated_eoss/g.8_a1._cl.01.h5\")\n",
    "g_9 = h5py.File(\"/home/lyla.traylor/agnosticeosmodel/Metamodel+GP/generated_eoss/g.9_a1._cl.01.h5\")\n",
    "g_11 = h5py.File(\"/home/lyla.traylor/agnosticeosmodel/Metamodel+GP/generated_eoss/g1.1_a1._cl.01.h5\")\n"
   ]
  },
  {
   "cell_type": "code",
   "execution_count": 5,
   "id": "92f53e3d-78d9-4ec9-87db-4625a3b0f7b0",
   "metadata": {},
   "outputs": [],
   "source": [
    "# read h.5 alpha\n",
    "a_001 = h5py.File(\"/home/lyla.traylor/agnosticeosmodel/Metamodel+GP/generated_eoss/g.7_a.01_cl.01.h5\")\n",
    "a_005 = h5py.File(\"/home/lyla.traylor/agnosticeosmodel/Metamodel+GP/generated_eoss/g.7_a.05_cl.01.h5\")\n",
    "a_01 = h5py.File(\"/home/lyla.traylor/agnosticeosmodel/Metamodel+GP/generated_eoss/g.7_a.1_cl.01.h5\")\n",
    "a_03 = h5py.File(\"/home/lyla.traylor/agnosticeosmodel/Metamodel+GP/generated_eoss/g.7_a.3_cl.01.h5\")\n",
    "a_05 = h5py.File(\"/home/lyla.traylor/agnosticeosmodel/Metamodel+GP/generated_eoss/g.7_a.5_cl.01.h5\")\n",
    "a_1 = h5py.File(\"/home/lyla.traylor/agnosticeosmodel/Metamodel+GP/generated_eoss/g.7_a1._cl.01.h5\")\n",
    "a_5 = h5py.File(\"/home/lyla.traylor/agnosticeosmodel/Metamodel+GP/generated_eoss/g.7_a5._cl.01.h5\")\n",
    "a_10 = h5py.File(\"/home/lyla.traylor/agnosticeosmodel/Metamodel+GP/generated_eoss/g.7_a10._cl.01.h5\")\n"
   ]
  },
  {
   "cell_type": "code",
   "execution_count": 21,
   "id": "009a8a39-1f1b-4c22-ba85-ba95f282acc7",
   "metadata": {},
   "outputs": [],
   "source": [
    "# read h.5 cl\n",
    "cl_1 = h5py.File(\"/home/lyla.traylor/agnosticeosmodel/Metamodel+GP/generated_eoss/g.7_a1._cl1..h5\")\n",
    "cl_sr01 = h5py.File(\"/home/lyla.traylor/agnosticeosmodel/Metamodel+GP/generated_eoss/g.7_a1._clsr.1.h5\")\n",
    "cl_01 = h5py.File(\"/home/lyla.traylor/agnosticeosmodel/Metamodel+GP/generated_eoss/g.7_a1._cl.1.h5\")\n",
    "cl_005 = h5py.File(\"/home/lyla.traylor/agnosticeosmodel/Metamodel+GP/generated_eoss/g.7_a1._cl.05.h5\")\n",
    "cl_001 = h5py.File(\"/home/lyla.traylor/agnosticeosmodel/Metamodel+GP/generated_eoss/g.7_a1._cl.01.h5\")\n",
    "cl_0001 = h5py.File(\"/home/lyla.traylor/agnosticeosmodel/Metamodel+GP/generated_eoss/g.7_a1._cl.001.h5\")\n"
   ]
  },
  {
   "cell_type": "code",
   "execution_count": 27,
   "id": "90d0fd98-936f-428b-80ee-872d772f30d3",
   "metadata": {},
   "outputs": [],
   "source": [
    "cl_01.close()\n"
   ]
  },
  {
   "cell_type": "code",
   "execution_count": 7,
   "id": "85b0a36a-2c39-45d9-9d32-2a2de144b7c6",
   "metadata": {},
   "outputs": [],
   "source": [
    "def get_pe_quantiles(eos_set, eos_data, interp_densities, quantiles, cgs_press = True):\n",
    "    pdvals = []\n",
    "    # Obtain quantiles for the prior set of EoS's\n",
    "    for eos in eos_set:\n",
    "        eos_densities = eos_data[eos][\"baryon_density\"]\n",
    "        eos_pressures = eos_data[eos][\"pressurec2\"]\n",
    "        if cgs_press:\n",
    "            eos_pressures = eos_data[eos][\"pressurec2\"]*gcm3_to_dynecm2\n",
    "        pdvals.append(np.interp(interp_densities, eos_densities, eos_pressures))\n",
    "    pdvals = np.array(pdvals)\n",
    "    \n",
    "    # Create object to hold upper and lower bounds \n",
    "    pd_sigmas = np.zeros((len(interp_densities),len(quantiles)))\n",
    "    for i in range(len(interp_densities)):\n",
    "        pd_sigmas[i]=np.percentile(np.array(pdvals[:,i]),quantiles)\n",
    "    del pdvals\n",
    "    return pd_sigmas"
   ]
  },
  {
   "cell_type": "code",
   "execution_count": 8,
   "id": "ad04f911-8a5b-4a6d-b477-36521c0c3a2a",
   "metadata": {},
   "outputs": [],
   "source": [
    "def get_mr_quantiles(eos_set, eos_mac_data, interp_masses, quantiles, cutoff = 30., verbose =  False):\n",
    "    mrvals = []\n",
    "    num_eos_cut = 0\n",
    "    for eos in eos_set:\n",
    "        eos_mass = eos_mac_data[eos][\"M\"][eos_mac_data[eos][\"R\"] < cutoff] # cuts to ignore radii values at\n",
    "        eos_radii = eos_mac_data[eos][\"R\"][eos_mac_data[eos][\"R\"] < cutoff] # larger mass from white dwarf branch \n",
    "        if len(eos_radii) == 0:\n",
    "            num_eos_cut += 1\n",
    "            continue\n",
    "        ### Try interpolating with scipy function\n",
    "        massrad_func = interpolate.interp1d(eos_mass, eos_radii, bounds_error = False, fill_value = \"NaN\")\n",
    "        interp_rad = massrad_func(interp_masses)\n",
    "        mrvals.append(interp_rad)\n",
    "    mrvals = np.array(mrvals)\n",
    "    \n",
    "    ## Obtaining quantiles \n",
    "    mr_sigmas = np.zeros((len(interp_masses),len(quantiles)))\n",
    "\n",
    "    ### Expecting NaN's from Eos's that don't reach end mass from interpolation range\n",
    "    for i in range(len(interp_masses)):\n",
    "        mr_sigmas[i]=np.nanpercentile(mrvals[:,i],quantiles)\n",
    "\n",
    "    if verbose:\n",
    "        print(\"Number of surviving EoS after radius cuts: \", str(len(eos_set) - num_eos_cut))\n",
    "    \n",
    "    del mrvals\n",
    "    return mr_sigmas"
   ]
  },
  {
   "cell_type": "code",
   "execution_count": 9,
   "id": "7bd198ba-61c8-415c-9847-069eb3588d53",
   "metadata": {},
   "outputs": [],
   "source": [
    "def get_cs_quantiles(eos_set, eos_data, interp_densities, quantiles):\n",
    "    csvals = []\n",
    "    # Obtain sound speed quantiles for a set of EoS's\n",
    "    for eos in eos_set:\n",
    "        eos_rest_mass = eos_data[eos][\"baryon_density\"]\n",
    "        eos_densities = eos_data[eos][\"energy_densityc2\"]\n",
    "        eos_pressures = eos_data[eos][\"pressurec2\"]\n",
    "        eos_cs = np.gradient(eos_pressures, eos_densities)\n",
    "        csvals.append(np.interp(interp_densities, eos_rest_mass, eos_cs))\n",
    "    csvals = np.array(csvals)\n",
    "\n",
    "    ### Obtaining quantiles \n",
    "    cs_sigmas = np.zeros((len(interp_densities),len(quantiles)))\n",
    "    for i in range(len(interp_densities)):\n",
    "        cs_sigmas[i] = np.percentile(np.array(csvals[:,i]), quantiles)\n",
    "    del csvals\n",
    "    return cs_sigmas\n"
   ]
  },
  {
   "cell_type": "code",
   "execution_count": 10,
   "id": "798c4478-fc02-4ed5-b4bf-6090be1b5217",
   "metadata": {},
   "outputs": [],
   "source": [
    "\n",
    "def get_lambda_quantiles(eos_set, eos_mac_data, interp_masses, quantiles, cutoff=30., verbose=False):\n",
    "    lambda_vals = []\n",
    "    num_eos_cut = 0\n",
    "\n",
    "    for eos in eos_set:\n",
    "        eos_mass = eos_mac_data[eos][\"M\"][eos_mac_data[eos][\"R\"] < cutoff]\n",
    "        eos_lambda = eos_mac_data[eos][\"Lambda\"][eos_mac_data[eos][\"R\"] < cutoff]\n",
    "        if len(eos_lambda) == 0:\n",
    "            num_eos_cut += 1\n",
    "            continue\n",
    "\n",
    "        ### Try interpolating with scipy function\n",
    "        mass_lambda_func = interpolate.interp1d(eos_mass, eos_lambda, bounds_error=False, fill_value= \"NaN\")\n",
    "        interp_lambda = mass_lambda_func(interp_masses)\n",
    "        lambda_vals.append(interp_lambda)\n",
    "\n",
    "    lambda_vals = np.array(lambda_vals)\n",
    "    \n",
    "    ## Obtaining quantiles\n",
    "    lambda_sigmas = np.zeros((len(interp_masses), len(quantiles)))\n",
    "    for i in range(len(interp_masses)):\n",
    "        lambda_sigmas[i] = np.nanpercentile(lambda_vals[:, i], quantiles)\n",
    "\n",
    "    if verbose:\n",
    "        print(\"Number of surviving EoS after radius cuts: \", str(len(eos_set) - num_eos_cut))\n",
    "\n",
    "    del lambda_vals\n",
    "    return lambda_sigmas\n"
   ]
  },
  {
   "cell_type": "code",
   "execution_count": 11,
   "id": "626ef8ad-7758-4a91-8165-34c0ff2a6926",
   "metadata": {},
   "outputs": [],
   "source": [
    "\n",
    "def get_max_mass_quantiles(eos_set, eos_mac_data, quantiles, cutoff = 3.0):\n",
    "    max_masses = []\n",
    "    num_eos_cut = 0\n",
    "\n",
    "    for eos in eos_set:\n",
    "        eos_mass = eos_mac_data[eos][\"M\"]\n",
    "        if len(eos_mass) == 0:\n",
    "            continue\n",
    "        max_mass = np.nanmax(eos_mass)\n",
    "        max_masses.append(max_mass)\n",
    "\n",
    "    max_masses = np.array(max_masses)\n",
    "    mass_quantiles = np.nanpercentile(max_masses, quantiles)\n",
    "\n",
    "    return mass_quantiles"
   ]
  },
  {
   "cell_type": "code",
   "execution_count": 17,
   "id": "057b3db2-1bf8-4606-b44b-2ec79ceacb7d",
   "metadata": {},
   "outputs": [],
   "source": [
    "plot_densities = np.geomspace(np.power(10.0,13.0), 10.*rho_nuc_in_cgs, 5000)  #interpolatin range\n",
    "plot_masses = np.linspace(0.5, 3.5, 5000)\n",
    "percentiles = [50,95] # list of values"
   ]
  },
  {
   "cell_type": "code",
   "execution_count": 18,
   "id": "00c380c2-9874-4c94-9c32-bd668622f75a",
   "metadata": {},
   "outputs": [
    {
     "ename": "NameError",
     "evalue": "name 'eos_to_be_used' is not defined",
     "output_type": "error",
     "traceback": [
      "\u001b[31m---------------------------------------------------------------------------\u001b[39m",
      "\u001b[31mNameError\u001b[39m                                 Traceback (most recent call last)",
      "\u001b[36mCell\u001b[39m\u001b[36m \u001b[39m\u001b[32mIn[18]\u001b[39m\u001b[32m, line 1\u001b[39m\n\u001b[32m----> \u001b[39m\u001b[32m1\u001b[39m p_sigmas = get_pe_quantiles(\u001b[43meos_to_be_used\u001b[49m, micro_data, plot_densities, percentiles)\n\u001b[32m      2\u001b[39m int_func = interplate.interpld(plot_densities, p_sigmas[:,\u001b[32m1\u001b[39m])\n\u001b[32m      3\u001b[39m int_funct(\u001b[32m2\u001b[39m*rho_nuc_in_cgs)\n",
      "\u001b[31mNameError\u001b[39m: name 'eos_to_be_used' is not defined"
     ]
    }
   ],
   "source": [
    "p_sigmas = get_pe_quantiles(eos_to_be_used, micro_data, plot_densities, percentiles)\n",
    "int_func = interplate.interpld(plot_densities, p_sigmas[:,1])\n",
    "int_funct(2*rho_nuc_in_cgs)"
   ]
  },
  {
   "cell_type": "code",
   "execution_count": 19,
   "id": "a8fbd1b4-1d03-4e0d-937d-7b22389afc3b",
   "metadata": {},
   "outputs": [],
   "source": [
    "micro_g7 = {eos_num : np.array(g_7['eos'][eos_id]) for eos_num, eos_id in enumerate(g_7['eos'])}\n",
    "macro_g7 = {eos_num : np.array(g_7['ns'][eos_id]) for eos_num, eos_id in enumerate(g_7['ns'])}\n",
    "\n",
    "eos_to_be_used = np.arange(len(g_7[\"eos\"]))\n",
    "\n",
    "plot_masses = np.linspace(0.5, 3.5, 5000)\n",
    "plot_densities = np.geomspace(np.power(10.0,13.0), 10.*rho_nuc_in_cgs, 5000)  #interpolatin range\n",
    "\n",
    "percentiles = [16,84] # list of values"
   ]
  },
  {
   "cell_type": "code",
   "execution_count": 20,
   "id": "4b09cfd4-400f-4116-b157-de40a7d14448",
   "metadata": {},
   "outputs": [],
   "source": [
    "p_sigmas_g7 = get_pe_quantiles(eos_to_be_used, micro_g7, plot_densities, percentiles)\n",
    "mr_sigmas_g7 = get_mr_quantiles(eos_to_be_used, macro_g7, plot_masses, percentiles, cutoff = 30., verbose =  False)\n",
    "cs_sigmas_g7 = get_cs_quantiles(eos_to_be_used, micro_g7, plot_densities, [50,90])"
   ]
  },
  {
   "cell_type": "code",
   "execution_count": 22,
   "id": "222a04da-aeca-45f8-8c61-852ff1240db4",
   "metadata": {},
   "outputs": [
    {
     "data": {
      "text/plain": [
       "array(0.42492387)"
      ]
     },
     "execution_count": 22,
     "metadata": {},
     "output_type": "execute_result"
    }
   ],
   "source": [
    "int_func_cs = int_func = interpolate.interp1d(plot_densities, cs_sigmas_g7[:,0])\n",
    "int_func(6*rho_nuc_in_cgs)"
   ]
  },
  {
   "cell_type": "code",
   "execution_count": 60,
   "id": "b09d1364-2940-48c3-bc38-907e45702804",
   "metadata": {},
   "outputs": [
    {
     "data": {
      "text/plain": [
       "array(8.98722712e+33)"
      ]
     },
     "execution_count": 60,
     "metadata": {},
     "output_type": "execute_result"
    }
   ],
   "source": [
    "int_func = interpolate.interp1d(plot_densities, p_sigmas_g7[:,0])\n",
    "int_func(2*rho_nuc_in_cgs)"
   ]
  },
  {
   "cell_type": "code",
   "execution_count": 28,
   "id": "03c513ac-f3d5-4cf7-857a-b75781a5ff99",
   "metadata": {},
   "outputs": [
    {
     "data": {
      "text/plain": [
       "array(4.83666258e+35)"
      ]
     },
     "execution_count": 28,
     "metadata": {},
     "output_type": "execute_result"
    }
   ],
   "source": [
    "int_func(6*rho_nuc_in_cgs)"
   ]
  },
  {
   "cell_type": "code",
   "execution_count": 62,
   "id": "c3f04052-8ef7-4612-a9e1-8b39c06ccdce",
   "metadata": {},
   "outputs": [
    {
     "data": {
      "text/plain": [
       "array(13.06619702)"
      ]
     },
     "execution_count": 62,
     "metadata": {},
     "output_type": "execute_result"
    }
   ],
   "source": [
    "int_func_m(1.5)"
   ]
  },
  {
   "cell_type": "code",
   "execution_count": 12,
   "id": "c5d253fc-cdbb-48ad-8297-d2937d4c342c",
   "metadata": {},
   "outputs": [],
   "source": [
    "def diagnose_eos_set(eos_set, percentile = [5, 95], verbose = True):\n",
    "    eos_to_be_used = np.arange(len(eos_set[\"eos\"]))\n",
    "    eos_to_be_used_ns = np.arange(len(eos_set[\"ns\"]))\n",
    "    percentiles_median = [50,95];\n",
    "    percentiles_quartile = percentile;\n",
    "\n",
    "    # interpolate over\n",
    "    plot_densities = np.geomspace(np.power(10.0,13.0), 10.*rho_nuc_in_cgs, 5000)\n",
    "    plot_masses = np.linspace(0.5, 3.5, 5000)\n",
    "\n",
    "    # correct enumerations\n",
    "    micro = {eos_num : np.array(eos_set['eos'][eos_id]) for eos_num, eos_id in enumerate(eos_set['eos'])}\n",
    "    macro = {eos_num : np.array(eos_set['ns'][eos_id]) for eos_num, eos_id in enumerate(eos_set['ns'])}\n",
    "\n",
    "    # pe to get mean\n",
    "    p_sigmas_median = get_pe_quantiles(eos_to_be_used, micro, plot_densities, percentiles_median)\n",
    "    int_func_median = interpolate.interp1d(plot_densities, p_sigmas_median[:,0])\n",
    "    p_at2 = int_func_median(2*rho_nuc_in_cgs) # val at 2\n",
    "    p_at6 = int_func_median(6*rho_nuc_in_cgs) # val at 6\n",
    "\n",
    "    # pe to get quartile\n",
    "    p_sigmas_qt = get_pe_quantiles(eos_to_be_used, micro, plot_densities, percentiles_quartile)\n",
    "    int_func_lower = interpolate.interp1d(plot_densities, p_sigmas_qt[:,0])\n",
    "    int_func_upper = interpolate.interp1d(plot_densities, p_sigmas_qt[:,1])\n",
    "    p_lower2 = p_at2 - int_func_lower(2*rho_nuc_in_cgs) \n",
    "    p_upper2 = int_func_upper(2*rho_nuc_in_cgs) - p_at2\n",
    "    p_lower6 = p_at6 - int_func_lower(6*rho_nuc_in_cgs)\n",
    "    p_upper6 = int_func_upper(6*rho_nuc_in_cgs) - p_at6\n",
    "\n",
    "    # mr to get mean\n",
    "    mr_sigmas_median = get_mr_quantiles(eos_to_be_used_ns, macro, plot_masses, percentiles_median, cutoff = 30., verbose =  False)\n",
    "    int_func_m_median = interpolate.interp1d(plot_masses, mr_sigmas_median[:,0])\n",
    "    median_radi = int_func_m_median(1.4)\n",
    "    median_radi2 = int_func_m_median(2)\n",
    "\n",
    "    # mr to get qt\n",
    "    mr_sigmas_qt = get_mr_quantiles(eos_to_be_used_ns, macro, plot_masses, percentiles_quartile, cutoff = 30., verbose =  False)\n",
    "    int_func_m_lower = interpolate.interp1d(plot_masses, mr_sigmas_qt[:,0])\n",
    "    int_func_m_upper = interpolate.interp1d(plot_masses, mr_sigmas_qt[:,1])\n",
    "    lower_radi = median_radi - int_func_m_lower(1.4)\n",
    "    upper_radi = int_func_m_upper(1.4) - median_radi\n",
    "    lower_radi2 = median_radi2 - int_func_m_lower(2)\n",
    "    upper_radi2 = int_func_m_upper(2) - median_radi2\n",
    "\n",
    "    # se to get mean\n",
    "    cs_sigmas_median = get_cs_quantiles(eos_to_be_used, micro, plot_densities, percentiles_median)\n",
    "    int_func_cs_median = interpolate.interp1d(plot_densities, cs_sigmas_median[:,0])\n",
    "    cs_at2 = int_func_cs_median(2*rho_nuc_in_cgs) # val at 2\n",
    "    cs_at6 = int_func_cs_median(6*rho_nuc_in_cgs) # val at 6\n",
    "\n",
    "    # pe to get quartile\n",
    "    cs_sigmas_qt = get_cs_quantiles(eos_to_be_used, micro, plot_densities, percentiles_quartile)\n",
    "    int_func_lower_cs = interpolate.interp1d(plot_densities, cs_sigmas_qt[:,0])\n",
    "    int_func_upper_cs = interpolate.interp1d(plot_densities, cs_sigmas_qt[:,1])\n",
    "    cs_lower2 = cs_at2 - int_func_lower_cs(2*rho_nuc_in_cgs) \n",
    "    cs_upper2 = int_func_upper_cs(2*rho_nuc_in_cgs) - cs_at2\n",
    "    cs_lower6 = cs_at6 - int_func_lower_cs(6*rho_nuc_in_cgs)\n",
    "    cs_upper6 = int_func_upper_cs(6*rho_nuc_in_cgs) - cs_at6\n",
    "\n",
    "    # l to get mean\n",
    "    l_sigmas_median = get_lambda_quantiles(eos_to_be_used_ns, macro, plot_masses, percentiles_median, cutoff = 30., verbose =  False)\n",
    "    int_func_l_median = interpolate.interp1d(plot_masses, l_sigmas_median[:,0])\n",
    "    median_lam = int_func_l_median(1.4)\n",
    "\n",
    "    # l to get qt\n",
    "    l_sigmas_qt = get_lambda_quantiles(eos_to_be_used_ns, macro, plot_masses, percentiles_quartile, cutoff = 30., verbose =  False)\n",
    "    int_func_l_lower = interpolate.interp1d(plot_masses, l_sigmas_qt[:,0])\n",
    "    int_func_l_upper = interpolate.interp1d(plot_masses, l_sigmas_qt[:,1])\n",
    "    lower_lam = median_lam - int_func_l_lower(1.4)\n",
    "    upper_lam = int_func_l_upper(1.4) - median_lam\n",
    "\n",
    "    # (median) max mass\n",
    "    med_max_mass = get_max_mass_quantiles(eos_to_be_used_ns, macro, [50], cutoff = 30.)\n",
    "    # radius at that mass\n",
    "    median_radi_max = int_func_m_median(med_max_mass[0])\n",
    "    lower_radi_max = median_radi_max - int_func_m_lower(med_max_mass[0])\n",
    "    upper_radi_max = int_func_m_upper(med_max_mass[0]) - median_radi_max\n",
    "\n",
    "    \n",
    "    if verbose:\n",
    "        print(f\"For the set {eos_set}: \\n\" \n",
    "                f\"Median pressure at 2x nuclear saturation density- {p_at2} \\n\"\n",
    "                f\"Lower \\aand upper bound for quartile pressure at 2x nuclear saturation density- {p_lower2}, {p_upper2} \\n\"\n",
    "                f\"Median pressure at 6x nuclear saturation density- {p_at6} \\n\"\n",
    "                f\"Lower \\aand upper bound for quartile pressure at 6x nuclear saturation density- {p_lower6}, {p_upper6} \\n\"\n",
    "                f\"Median radius at 1.4 solar masses {median_radi} \\n\"\n",
    "                f\"Lower \\aand upper bound for quartile radius at 1.4 solar masses- {lower_radi}, {upper_radi} \\n\"\n",
    "                f\"Median radius at 2 solar masses {median_radi2} \\n\"\n",
    "                f\"Lower \\aand upper bound for quartile radius at 2 solar masses- {lower_radi2}, {upper_radi2} \\n\"\n",
    "                f\"Median max mass {med_max_mass[0]} \\n\"\n",
    "                f\"Median radius at median max mass {median_radi_max} \\n\"\n",
    "                f\"Lower \\aand upper bound for quartile radius at median max mass- {lower_radi_max}, {upper_radi_max} \\n\"\n",
    "                f\"Median sound speed at 2x nuclear saturation density- {cs_at2} \\n\"\n",
    "                f\"Lower \\aand upper bound for quartile sound speed at 2x nuclear saturation density- {cs_lower2}, {cs_upper2} \\n\"\n",
    "                f\"Median sound speed at 6x nuclear saturation density- {cs_at6} \\n\"\n",
    "                f\"Lower \\aand upper bound for quartile sound speed at 6x nuclear saturation density- {cs_lower6}, {cs_upper6} \\n\"\n",
    "                f\"Median lambda at 1.4 solar masses {median_lam} \\n\"\n",
    "                f\"Lower \\aand upper bound for quartile lambda at 1.4 solar masses- {lower_lam}, {upper_lam}\")\n",
    "    return {\"pressure_2sat\": p_at2, \"p_lower_2sat\": p_lower2, \"p_upper_2sat\": p_upper2,\n",
    "            \"pressure_6sat\": p_at6, \"p_lower_6sat\": p_lower6, \"p_upper_6sat\": p_upper6,\n",
    "            \"radius_1.4\":  median_radi, \"radius_lower_1.4\":lower_radi, \"radius_upper_1.4\": upper_radi,\n",
    "            \"radius_2\":  median_radi2, \"radius_lower_2\":lower_radi2, \"radius_upper_2\": upper_radi2,\n",
    "            \"median_max_mass\": med_max_mass[0],\n",
    "            \"radius_max\":  median_radi_max, \"radius_lower_max\":lower_radi_max, \"radius_upper_max\": upper_radi_max,\n",
    "            \"cs_2sat\": cs_at2, \"cs_lower_2sat\": cs_lower2, \"cs_upper_2sat\": cs_upper2,\n",
    "            \"cs_6sat\": cs_at6, \"cs_lower_6sat\": cs_lower6, \"cs_upper_6sat\": cs_upper6,\n",
    "            \"lambda\":  median_lam, \"lambda_lower\":lower_lam, \"lambda_upper\": upper_lam}\n"
   ]
  },
  {
   "cell_type": "code",
   "execution_count": 72,
   "id": "331ce24c-16b4-4917-b4f0-4a70aab9e95a",
   "metadata": {},
   "outputs": [],
   "source": [
    "#def control_compare(eos_set):\n",
    "    #[A, B, C, D, E, F, G, H ,I] = get_numbers(g_7)\n",
    "    #[a, b, c, d, e, f, g, h ,i] = get_numbers(eos_set)\n",
    "    #return [A-a, B-b, C-c, D-d, E-e, F-f, G-g, H-h ,I-i]\n",
    "    \n",
    "    "
   ]
  },
  {
   "cell_type": "code",
   "execution_count": 13,
   "id": "ae548f97-c3e9-47d0-9e97-f8be6f8f2f99",
   "metadata": {},
   "outputs": [
    {
     "name": "stdout",
     "output_type": "stream",
     "text": [
      "For the set <HDF5 file \"g.7_a1._cl.01.h5\" (mode r)>: \n",
      "Median pressure at 2x nuclear saturation density- 3.1657425287981534e+34 \n",
      "Lower \u0007and upper bound for quartile pressure at 2x nuclear saturation density- 2.65400195286234e+34, 1.547892560504343e+35 \n",
      "Median pressure at 6x nuclear saturation density- 4.836662576167329e+35 \n",
      "Lower \u0007and upper bound for quartile pressure at 6x nuclear saturation density- 4.649542032617266e+35, 1.9807267806850263e+36 \n",
      "Median radius at 1.4 solar masses 12.94570439031916 \n",
      "Lower \u0007and upper bound for quartile radius at 1.4 solar masses- 3.94525781247831, 1.44556764891297 \n",
      "Median radius at 2 solar masses 13.79773989129582 \n",
      "Lower \u0007and upper bound for quartile radius at 2 solar masses- 3.2560524210952018, 1.4724380608383658 \n",
      "Median max mass 2.0398771477880606 \n",
      "Median radius at median max mass 13.858821837453076 \n",
      "Lower \u0007and upper bound for quartile radius at median max mass- 3.1380450659318164, 1.4629695185527591 \n",
      "Median sound speed at 2x nuclear saturation density- 0.14537894462482415 \n",
      "Lower \u0007and upper bound for quartile sound speed at 2x nuclear saturation density- 0.1431299131454666, 0.7814083051822388 \n",
      "Median sound speed at 6x nuclear saturation density- 0.424923867633349 \n",
      "Lower \u0007and upper bound for quartile sound speed at 6x nuclear saturation density- 0.41991829230465993, 0.5663360319973965 \n",
      "Median lambda at 1.4 solar masses 667.824947919587 \n",
      "Lower \u0007and upper bound for quartile lambda at 1.4 solar masses- 621.5706902823191, 715.5602486998844\n"
     ]
    },
    {
     "data": {
      "text/plain": [
       "{'pressure_2sat': array(3.16574253e+34),\n",
       " 'p_lower_2sat': 2.65400195286234e+34,\n",
       " 'p_upper_2sat': 1.547892560504343e+35,\n",
       " 'pressure_6sat': array(4.83666258e+35),\n",
       " 'p_lower_6sat': 4.649542032617266e+35,\n",
       " 'p_upper_6sat': 1.9807267806850263e+36,\n",
       " 'radius_1.4': array(12.94570439),\n",
       " 'radius_lower_1.4': 3.94525781247831,\n",
       " 'radius_upper_1.4': 1.44556764891297,\n",
       " 'radius_2': array(13.79773989),\n",
       " 'radius_lower_2': 3.2560524210952018,\n",
       " 'radius_upper_2': 1.4724380608383658,\n",
       " 'median_max_mass': 2.0398771477880606,\n",
       " 'radius_max': array(13.85882184),\n",
       " 'radius_lower_max': 3.1380450659318164,\n",
       " 'radius_upper_max': 1.4629695185527591,\n",
       " 'cs_2sat': array(0.14537894),\n",
       " 'cs_lower_2sat': 0.1431299131454666,\n",
       " 'cs_upper_2sat': 0.7814083051822388,\n",
       " 'cs_6sat': array(0.42492387),\n",
       " 'cs_lower_6sat': 0.41991829230465993,\n",
       " 'cs_upper_6sat': 0.5663360319973965,\n",
       " 'lambda': array(667.82494792),\n",
       " 'lambda_lower': 621.5706902823191,\n",
       " 'lambda_upper': 715.5602486998844}"
      ]
     },
     "execution_count": 13,
     "metadata": {},
     "output_type": "execute_result"
    }
   ],
   "source": [
    "diagnose_eos_set(g_7, verbose = True)"
   ]
  },
  {
   "cell_type": "code",
   "execution_count": 14,
   "id": "710a3554-6f10-445c-ba64-53f287f3709b",
   "metadata": {},
   "outputs": [
    {
     "name": "stderr",
     "output_type": "stream",
     "text": [
      "/opt/conda/igwn-py310-20250513/lib/python3.10/site-packages/numpy/lib/nanfunctions.py:1556: RuntimeWarning: All-NaN slice encountered\n",
      "  return function_base._ureduce(a,\n"
     ]
    },
    {
     "name": "stdout",
     "output_type": "stream",
     "text": [
      "For the set <HDF5 file \"g.1_a1._cl.01.h5\" (mode r)>: \n",
      "Median pressure at 2x nuclear saturation density- 3.0000336585392815e+34 \n",
      "Lower \u0007and upper bound for quartile pressure at 2x nuclear saturation density- 2.0680191776037046e+34, 2.6559610134997453e+34 \n",
      "Median pressure at 6x nuclear saturation density- 3.963270123031499e+35 \n",
      "Lower \u0007and upper bound for quartile pressure at 6x nuclear saturation density- 3.0226575970039226e+35, 4.420638666771308e+35 \n",
      "Median radius at 1.4 solar masses 12.169954462127778 \n",
      "Lower \u0007and upper bound for quartile radius at 1.4 solar masses- 2.405392975328736, 1.3561623781104615 \n",
      "Median radius at 2 solar masses 12.580550444839666 \n",
      "Lower \u0007and upper bound for quartile radius at 2 solar masses- 1.4112434771557663, 1.2753885347671492 \n",
      "Median max mass 1.7024513160968366 \n",
      "Median radius at median max mass 12.254791097484325 \n",
      "Lower \u0007and upper bound for quartile radius at median max mass- 1.9212890573322028, 1.4194241831514631 \n",
      "Median sound speed at 2x nuclear saturation density- 0.15130099145345063 \n",
      "Lower \u0007and upper bound for quartile sound speed at 2x nuclear saturation density- 0.1106623938344585, 0.15482588566283076 \n",
      "Median sound speed at 6x nuclear saturation density- 0.41698792202455653 \n",
      "Lower \u0007and upper bound for quartile sound speed at 6x nuclear saturation density- 0.3103455906180441, 0.2714192640089588 \n",
      "Median lambda at 1.4 solar masses 380.93376101577 \n",
      "Lower \u0007and upper bound for quartile lambda at 1.4 solar masses- 311.1480734469204, 456.43093797400235\n"
     ]
    },
    {
     "data": {
      "text/plain": [
       "{'pressure_2sat': array(3.00003366e+34),\n",
       " 'p_lower_2sat': 2.0680191776037046e+34,\n",
       " 'p_upper_2sat': 2.6559610134997453e+34,\n",
       " 'pressure_6sat': array(3.96327012e+35),\n",
       " 'p_lower_6sat': 3.0226575970039226e+35,\n",
       " 'p_upper_6sat': 4.420638666771308e+35,\n",
       " 'radius_1.4': array(12.16995446),\n",
       " 'radius_lower_1.4': 2.405392975328736,\n",
       " 'radius_upper_1.4': 1.3561623781104615,\n",
       " 'radius_2': array(12.58055044),\n",
       " 'radius_lower_2': 1.4112434771557663,\n",
       " 'radius_upper_2': 1.2753885347671492,\n",
       " 'median_max_mass': 1.7024513160968366,\n",
       " 'radius_max': array(12.2547911),\n",
       " 'radius_lower_max': 1.9212890573322028,\n",
       " 'radius_upper_max': 1.4194241831514631,\n",
       " 'cs_2sat': array(0.15130099),\n",
       " 'cs_lower_2sat': 0.1106623938344585,\n",
       " 'cs_upper_2sat': 0.15482588566283076,\n",
       " 'cs_6sat': array(0.41698792),\n",
       " 'cs_lower_6sat': 0.3103455906180441,\n",
       " 'cs_upper_6sat': 0.2714192640089588,\n",
       " 'lambda': array(380.93376102),\n",
       " 'lambda_lower': 311.1480734469204,\n",
       " 'lambda_upper': 456.43093797400235}"
      ]
     },
     "execution_count": 14,
     "metadata": {},
     "output_type": "execute_result"
    }
   ],
   "source": [
    "diagnose_eos_set(g_1)"
   ]
  },
  {
   "cell_type": "code",
   "execution_count": 15,
   "id": "5b19d9f9-ee4c-4dcf-a632-480d6fd93465",
   "metadata": {},
   "outputs": [
    {
     "name": "stdout",
     "output_type": "stream",
     "text": [
      "For the set <HDF5 file \"g.3_a1._cl.01.h5\" (mode r)>: \n",
      "Median pressure at 2x nuclear saturation density- 2.9531121011943864e+34 \n",
      "Lower \u0007and upper bound for quartile pressure at 2x nuclear saturation density- 2.1736316249414507e+34, 6.207571178512777e+34 \n",
      "Median pressure at 6x nuclear saturation density- 4.177512944356824e+35 \n",
      "Lower \u0007and upper bound for quartile pressure at 6x nuclear saturation density- 3.5429608551723595e+35, 1.0125716254752399e+36 \n",
      "Median radius at 1.4 solar masses 12.421205887979575 \n",
      "Lower \u0007and upper bound for quartile radius at 1.4 solar masses- 3.109779204846289, 1.5314826460689197 \n",
      "Median radius at 2 solar masses 13.137334780208555 \n",
      "Lower \u0007and upper bound for quartile radius at 2 solar masses- 2.3422015023232134, 1.4914671932476047 \n",
      "Median max mass 1.7909000401492774 \n",
      "Median radius at median max mass 12.833339107606276 \n",
      "Lower \u0007and upper bound for quartile radius at median max mass- 2.693188730559724, 1.5571441237037877 \n",
      "Median sound speed at 2x nuclear saturation density- 0.1474522090889578 \n",
      "Lower \u0007and upper bound for quartile sound speed at 2x nuclear saturation density- 0.12675526936405238, 0.40272634184455375 \n",
      "Median sound speed at 6x nuclear saturation density- 0.4352996648182618 \n",
      "Lower \u0007and upper bound for quartile sound speed at 6x nuclear saturation density- 0.37226068711231525, 0.4489330771166565 \n",
      "Median lambda at 1.4 solar masses 468.27933463075226 \n",
      "Lower \u0007and upper bound for quartile lambda at 1.4 solar masses- 416.71548343535767, 615.1497416806068\n"
     ]
    },
    {
     "data": {
      "text/plain": [
       "{'pressure_2sat': array(2.9531121e+34),\n",
       " 'p_lower_2sat': 2.1736316249414507e+34,\n",
       " 'p_upper_2sat': 6.207571178512777e+34,\n",
       " 'pressure_6sat': array(4.17751294e+35),\n",
       " 'p_lower_6sat': 3.5429608551723595e+35,\n",
       " 'p_upper_6sat': 1.0125716254752399e+36,\n",
       " 'radius_1.4': array(12.42120589),\n",
       " 'radius_lower_1.4': 3.109779204846289,\n",
       " 'radius_upper_1.4': 1.5314826460689197,\n",
       " 'radius_2': array(13.13733478),\n",
       " 'radius_lower_2': 2.3422015023232134,\n",
       " 'radius_upper_2': 1.4914671932476047,\n",
       " 'median_max_mass': 1.7909000401492774,\n",
       " 'radius_max': array(12.83333911),\n",
       " 'radius_lower_max': 2.693188730559724,\n",
       " 'radius_upper_max': 1.5571441237037877,\n",
       " 'cs_2sat': array(0.14745221),\n",
       " 'cs_lower_2sat': 0.12675526936405238,\n",
       " 'cs_upper_2sat': 0.40272634184455375,\n",
       " 'cs_6sat': array(0.43529966),\n",
       " 'cs_lower_6sat': 0.37226068711231525,\n",
       " 'cs_upper_6sat': 0.4489330771166565,\n",
       " 'lambda': array(468.27933463),\n",
       " 'lambda_lower': 416.71548343535767,\n",
       " 'lambda_upper': 615.1497416806068}"
      ]
     },
     "execution_count": 15,
     "metadata": {},
     "output_type": "execute_result"
    }
   ],
   "source": [
    "diagnose_eos_set(g_3)"
   ]
  },
  {
   "cell_type": "code",
   "execution_count": 16,
   "id": "49580c77-ab0c-45fe-b059-23fa8f5ab82a",
   "metadata": {},
   "outputs": [
    {
     "name": "stdout",
     "output_type": "stream",
     "text": [
      "For the set <HDF5 file \"g.5_a1._cl.01.h5\" (mode r)>: \n",
      "Median pressure at 2x nuclear saturation density- 3.0384312409543436e+34 \n",
      "Lower \u0007and upper bound for quartile pressure at 2x nuclear saturation density- 2.42722956912598e+34, 1.1229148635062062e+35 \n",
      "Median pressure at 6x nuclear saturation density- 4.49319613905129e+35 \n",
      "Lower \u0007and upper bound for quartile pressure at 6x nuclear saturation density- 4.164825967005292e+35, 1.57716486509034e+36 \n",
      "Median radius at 1.4 solar masses 12.748244105712981 \n",
      "Lower \u0007and upper bound for quartile radius at 1.4 solar masses- 3.6476423288691233, 1.4722932646609195 \n",
      "Median radius at 2 solar masses 13.532071510238548 \n",
      "Lower \u0007and upper bound for quartile radius at 2 solar masses- 2.862975759873928, 1.5010456828464918 \n",
      "Median max mass 1.9119962948889166 \n",
      "Median radius at median max mass 13.401644829814579 \n",
      "Lower \u0007and upper bound for quartile radius at median max mass- 3.0198126441251674, 1.51892842737427 \n",
      "Median sound speed at 2x nuclear saturation density- 0.14354841499247392 \n",
      "Lower \u0007and upper bound for quartile sound speed at 2x nuclear saturation density- 0.13630301306602027, 0.6548452797037383 \n",
      "Median sound speed at 6x nuclear saturation density- 0.43192440723772235 \n",
      "Lower \u0007and upper bound for quartile sound speed at 6x nuclear saturation density- 0.4136231305252183, 0.535493540031738 \n",
      "Median lambda at 1.4 solar masses 587.5897097029499 \n",
      "Lower \u0007and upper bound for quartile lambda at 1.4 solar masses- 540.2137630945288, 674.3857565711335\n"
     ]
    },
    {
     "data": {
      "text/plain": [
       "{'pressure_2sat': array(3.03843124e+34),\n",
       " 'p_lower_2sat': 2.42722956912598e+34,\n",
       " 'p_upper_2sat': 1.1229148635062062e+35,\n",
       " 'pressure_6sat': array(4.49319614e+35),\n",
       " 'p_lower_6sat': 4.164825967005292e+35,\n",
       " 'p_upper_6sat': 1.57716486509034e+36,\n",
       " 'radius_1.4': array(12.74824411),\n",
       " 'radius_lower_1.4': 3.6476423288691233,\n",
       " 'radius_upper_1.4': 1.4722932646609195,\n",
       " 'radius_2': array(13.53207151),\n",
       " 'radius_lower_2': 2.862975759873928,\n",
       " 'radius_upper_2': 1.5010456828464918,\n",
       " 'median_max_mass': 1.9119962948889166,\n",
       " 'radius_max': array(13.40164483),\n",
       " 'radius_lower_max': 3.0198126441251674,\n",
       " 'radius_upper_max': 1.51892842737427,\n",
       " 'cs_2sat': array(0.14354841),\n",
       " 'cs_lower_2sat': 0.13630301306602027,\n",
       " 'cs_upper_2sat': 0.6548452797037383,\n",
       " 'cs_6sat': array(0.43192441),\n",
       " 'cs_lower_6sat': 0.4136231305252183,\n",
       " 'cs_upper_6sat': 0.535493540031738,\n",
       " 'lambda': array(587.5897097),\n",
       " 'lambda_lower': 540.2137630945288,\n",
       " 'lambda_upper': 674.3857565711335}"
      ]
     },
     "execution_count": 16,
     "metadata": {},
     "output_type": "execute_result"
    }
   ],
   "source": [
    "diagnose_eos_set(g_5)"
   ]
  },
  {
   "cell_type": "code",
   "execution_count": 17,
   "id": "77647414-a3ac-4f60-ac5a-c6bf953e7cbd",
   "metadata": {},
   "outputs": [
    {
     "name": "stdout",
     "output_type": "stream",
     "text": [
      "For the set <HDF5 file \"g.9_a1._cl.01.h5\" (mode r)>: \n",
      "Median pressure at 2x nuclear saturation density- 3.4867599418522813e+34 \n",
      "Lower \u0007and upper bound for quartile pressure at 2x nuclear saturation density- 3.0366450130528173e+34, 1.8739166007091006e+35 \n",
      "Median pressure at 6x nuclear saturation density- 5.446830855187488e+35 \n",
      "Lower \u0007and upper bound for quartile pressure at 6x nuclear saturation density- 5.320744357736831e+35, 2.2642898562377702e+36 \n",
      "Median radius at 1.4 solar masses 13.158107727974564 \n",
      "Lower \u0007and upper bound for quartile radius at 1.4 solar masses- 4.292714390271788, 1.3489402383893818 \n",
      "Median radius at 2 solar masses 14.04643629124429 \n",
      "Lower \u0007and upper bound for quartile radius at 2 solar masses- 3.5123288605468517, 1.3812976560019816 \n",
      "Median max mass 2.1652209216060347 \n",
      "Median radius at median max mass 14.299404176837982 \n",
      "Lower \u0007and upper bound for quartile radius at median max mass- 3.181459620198238, 1.355077437514522 \n",
      "Median sound speed at 2x nuclear saturation density- 0.14492702290581308 \n",
      "Lower \u0007and upper bound for quartile sound speed at 2x nuclear saturation density- 0.14420348442267542, 0.8329679501855408 \n",
      "Median sound speed at 6x nuclear saturation density- 0.4440518778747295 \n",
      "Lower \u0007and upper bound for quartile sound speed at 6x nuclear saturation density- 0.4426970738306495, 0.5537426207742591 \n",
      "Median lambda at 1.4 solar masses 756.5056865636774 \n",
      "Lower \u0007and upper bound for quartile lambda at 1.4 solar masses- 712.0917308679598, 718.7156435532614\n"
     ]
    },
    {
     "data": {
      "text/plain": [
       "{'pressure_2sat': array(3.48675994e+34),\n",
       " 'p_lower_2sat': 3.0366450130528173e+34,\n",
       " 'p_upper_2sat': 1.8739166007091006e+35,\n",
       " 'pressure_6sat': array(5.44683086e+35),\n",
       " 'p_lower_6sat': 5.320744357736831e+35,\n",
       " 'p_upper_6sat': 2.2642898562377702e+36,\n",
       " 'radius_1.4': array(13.15810773),\n",
       " 'radius_lower_1.4': 4.292714390271788,\n",
       " 'radius_upper_1.4': 1.3489402383893818,\n",
       " 'radius_2': array(14.04643629),\n",
       " 'radius_lower_2': 3.5123288605468517,\n",
       " 'radius_upper_2': 1.3812976560019816,\n",
       " 'median_max_mass': 2.1652209216060347,\n",
       " 'radius_max': array(14.29940418),\n",
       " 'radius_lower_max': 3.181459620198238,\n",
       " 'radius_upper_max': 1.355077437514522,\n",
       " 'cs_2sat': array(0.14492702),\n",
       " 'cs_lower_2sat': 0.14420348442267542,\n",
       " 'cs_upper_2sat': 0.8329679501855408,\n",
       " 'cs_6sat': array(0.44405188),\n",
       " 'cs_lower_6sat': 0.4426970738306495,\n",
       " 'cs_upper_6sat': 0.5537426207742591,\n",
       " 'lambda': array(756.50568656),\n",
       " 'lambda_lower': 712.0917308679598,\n",
       " 'lambda_upper': 718.7156435532614}"
      ]
     },
     "execution_count": 17,
     "metadata": {},
     "output_type": "execute_result"
    }
   ],
   "source": [
    "diagnose_eos_set(g_9)"
   ]
  },
  {
   "cell_type": "code",
   "execution_count": 18,
   "id": "1ba3e1cf-3a61-4856-b0e8-947067ee0160",
   "metadata": {},
   "outputs": [
    {
     "name": "stdout",
     "output_type": "stream",
     "text": [
      "For the set <HDF5 file \"g.7_a10._cl.01.h5\" (mode r)>: \n",
      "Median pressure at 2x nuclear saturation density- 3.0960007966907106e+34 \n",
      "Lower \u0007and upper bound for quartile pressure at 2x nuclear saturation density- 2.620156195492989e+34, 1.7048928398415794e+35 \n",
      "Median pressure at 6x nuclear saturation density- 5.063551935790229e+35 \n",
      "Lower \u0007and upper bound for quartile pressure at 6x nuclear saturation density- 4.883454155130763e+35, 2.0504745032950576e+36 \n",
      "Median radius at 1.4 solar masses 12.926530762616506 \n",
      "Lower \u0007and upper bound for quartile radius at 1.4 solar masses- 4.02691750826029, 1.4789052499815831 \n",
      "Median radius at 2 solar masses 13.826043739109824 \n",
      "Lower \u0007and upper bound for quartile radius at 2 solar masses- 3.3308970616391225, 1.4669230444832753 \n",
      "Median max mass 2.085840917811785 \n",
      "Median radius at median max mass 13.960659523366353 \n",
      "Lower \u0007and upper bound for quartile radius at median max mass- 3.2163239665645023, 1.4472816321595374 \n",
      "Median sound speed at 2x nuclear saturation density- 0.14061410290137036 \n",
      "Lower \u0007and upper bound for quartile sound speed at 2x nuclear saturation density- 0.13922278453080536, 0.813244892583277 \n",
      "Median sound speed at 6x nuclear saturation density- 0.4297415561598571 \n",
      "Lower \u0007and upper bound for quartile sound speed at 6x nuclear saturation density- 0.4256068698205425, 0.5625737958762692 \n",
      "Median lambda at 1.4 solar masses 666.7658857656683 \n",
      "Lower \u0007and upper bound for quartile lambda at 1.4 solar masses- 623.146110445163, 733.730710154697\n"
     ]
    },
    {
     "data": {
      "text/plain": [
       "{'pressure_2sat': array(3.0960008e+34),\n",
       " 'p_lower_2sat': 2.620156195492989e+34,\n",
       " 'p_upper_2sat': 1.7048928398415794e+35,\n",
       " 'pressure_6sat': array(5.06355194e+35),\n",
       " 'p_lower_6sat': 4.883454155130763e+35,\n",
       " 'p_upper_6sat': 2.0504745032950576e+36,\n",
       " 'radius_1.4': array(12.92653076),\n",
       " 'radius_lower_1.4': 4.02691750826029,\n",
       " 'radius_upper_1.4': 1.4789052499815831,\n",
       " 'radius_2': array(13.82604374),\n",
       " 'radius_lower_2': 3.3308970616391225,\n",
       " 'radius_upper_2': 1.4669230444832753,\n",
       " 'median_max_mass': 2.085840917811785,\n",
       " 'radius_max': array(13.96065952),\n",
       " 'radius_lower_max': 3.2163239665645023,\n",
       " 'radius_upper_max': 1.4472816321595374,\n",
       " 'cs_2sat': array(0.1406141),\n",
       " 'cs_lower_2sat': 0.13922278453080536,\n",
       " 'cs_upper_2sat': 0.813244892583277,\n",
       " 'cs_6sat': array(0.42974156),\n",
       " 'cs_lower_6sat': 0.4256068698205425,\n",
       " 'cs_upper_6sat': 0.5625737958762692,\n",
       " 'lambda': array(666.76588577),\n",
       " 'lambda_lower': 623.146110445163,\n",
       " 'lambda_upper': 733.730710154697}"
      ]
     },
     "execution_count": 18,
     "metadata": {},
     "output_type": "execute_result"
    }
   ],
   "source": [
    "diagnose_eos_set(a_10)"
   ]
  },
  {
   "cell_type": "code",
   "execution_count": 19,
   "id": "25052dc3-c0a6-4e16-ac65-719f6ac2ec3f",
   "metadata": {},
   "outputs": [
    {
     "name": "stdout",
     "output_type": "stream",
     "text": [
      "For the set <HDF5 file \"g.7_a5._cl.01.h5\" (mode r)>: \n",
      "Median pressure at 2x nuclear saturation density- 3.226578953281065e+34 \n",
      "Lower \u0007and upper bound for quartile pressure at 2x nuclear saturation density- 2.7426772667809676e+34, 1.6529398419682158e+35 \n",
      "Median pressure at 6x nuclear saturation density- 5.221207812291147e+35 \n",
      "Lower \u0007and upper bound for quartile pressure at 6x nuclear saturation density- 5.027729720020024e+35, 2.0137226655949133e+36 \n",
      "Median radius at 1.4 solar masses 12.929060334647412 \n",
      "Lower \u0007and upper bound for quartile radius at 1.4 solar masses- 4.026134323774597, 1.4783729680791087 \n",
      "Median radius at 2 solar masses 13.806084630104136 \n",
      "Lower \u0007and upper bound for quartile radius at 2 solar masses- 3.302432888184047, 1.4835930974042935 \n",
      "Median max mass 2.082989666527058 \n",
      "Median radius at median max mass 13.948142358138695 \n",
      "Lower \u0007and upper bound for quartile radius at median max mass- 3.1454528326701485, 1.4578547372239683 \n",
      "Median sound speed at 2x nuclear saturation density- 0.14752870258735237 \n",
      "Lower \u0007and upper bound for quartile sound speed at 2x nuclear saturation density- 0.1460374712320692, 0.8038214281414275 \n",
      "Median sound speed at 6x nuclear saturation density- 0.4404461510004858 \n",
      "Lower \u0007and upper bound for quartile sound speed at 6x nuclear saturation density- 0.43595979208621427, 0.5523963360853088 \n",
      "Median lambda at 1.4 solar masses 668.8738718382479 \n",
      "Lower \u0007and upper bound for quartile lambda at 1.4 solar masses- 625.4515721200063, 726.0720186577446\n"
     ]
    },
    {
     "data": {
      "text/plain": [
       "{'pressure_2sat': array(3.22657895e+34),\n",
       " 'p_lower_2sat': 2.7426772667809676e+34,\n",
       " 'p_upper_2sat': 1.6529398419682158e+35,\n",
       " 'pressure_6sat': array(5.22120781e+35),\n",
       " 'p_lower_6sat': 5.027729720020024e+35,\n",
       " 'p_upper_6sat': 2.0137226655949133e+36,\n",
       " 'radius_1.4': array(12.92906033),\n",
       " 'radius_lower_1.4': 4.026134323774597,\n",
       " 'radius_upper_1.4': 1.4783729680791087,\n",
       " 'radius_2': array(13.80608463),\n",
       " 'radius_lower_2': 3.302432888184047,\n",
       " 'radius_upper_2': 1.4835930974042935,\n",
       " 'median_max_mass': 2.082989666527058,\n",
       " 'radius_max': array(13.94814236),\n",
       " 'radius_lower_max': 3.1454528326701485,\n",
       " 'radius_upper_max': 1.4578547372239683,\n",
       " 'cs_2sat': array(0.1475287),\n",
       " 'cs_lower_2sat': 0.1460374712320692,\n",
       " 'cs_upper_2sat': 0.8038214281414275,\n",
       " 'cs_6sat': array(0.44044615),\n",
       " 'cs_lower_6sat': 0.43595979208621427,\n",
       " 'cs_upper_6sat': 0.5523963360853088,\n",
       " 'lambda': array(668.87387184),\n",
       " 'lambda_lower': 625.4515721200063,\n",
       " 'lambda_upper': 726.0720186577446}"
      ]
     },
     "execution_count": 19,
     "metadata": {},
     "output_type": "execute_result"
    }
   ],
   "source": [
    "diagnose_eos_set(a_5)"
   ]
  },
  {
   "cell_type": "code",
   "execution_count": 24,
   "id": "35fa8c5c-7f5d-4c4f-b949-35a035bb9905",
   "metadata": {},
   "outputs": [
    {
     "name": "stdout",
     "output_type": "stream",
     "text": [
      "For the set <HDF5 file \"g.7_a1._cl.01.h5\" (mode r)>: \n",
      "Median pressure at 2x nuclear saturation density- 3.1657425287981534e+34 \n",
      "Lower \u0007and upper bound for quartile pressure at 2x nuclear saturation density- 2.65400195286234e+34, 1.547892560504343e+35 \n",
      "Median pressure at 6x nuclear saturation density- 4.836662576167329e+35 \n",
      "Lower \u0007and upper bound for quartile pressure at 6x nuclear saturation density- 4.649542032617266e+35, 1.9807267806850263e+36 \n",
      "Median radius at 1.4 solar masses 12.94570439031916 \n",
      "Lower \u0007and upper bound for quartile radius at 1.4 solar masses- 3.94525781247831, 1.44556764891297 \n",
      "Median radius at 2 solar masses 13.79773989129582 \n",
      "Lower \u0007and upper bound for quartile radius at 2 solar masses- 3.2560524210952018, 1.4724380608383658 \n",
      "Median max mass 2.0398771477880606 \n",
      "Median radius at median max mass 13.858821837453076 \n",
      "Lower \u0007and upper bound for quartile radius at median max mass- 3.1380450659318164, 1.4629695185527591 \n",
      "Median sound speed at 2x nuclear saturation density- 0.14537894462482415 \n",
      "Lower \u0007and upper bound for quartile sound speed at 2x nuclear saturation density- 0.1431299131454666, 0.7814083051822388 \n",
      "Median sound speed at 6x nuclear saturation density- 0.424923867633349 \n",
      "Lower \u0007and upper bound for quartile sound speed at 6x nuclear saturation density- 0.41991829230465993, 0.5663360319973965 \n",
      "Median lambda at 1.4 solar masses 667.824947919587 \n",
      "Lower \u0007and upper bound for quartile lambda at 1.4 solar masses- 621.5706902823191, 715.5602486998844\n"
     ]
    },
    {
     "data": {
      "text/plain": [
       "{'pressure_2sat': array(3.16574253e+34),\n",
       " 'p_lower_2sat': 2.65400195286234e+34,\n",
       " 'p_upper_2sat': 1.547892560504343e+35,\n",
       " 'pressure_6sat': array(4.83666258e+35),\n",
       " 'p_lower_6sat': 4.649542032617266e+35,\n",
       " 'p_upper_6sat': 1.9807267806850263e+36,\n",
       " 'radius_1.4': array(12.94570439),\n",
       " 'radius_lower_1.4': 3.94525781247831,\n",
       " 'radius_upper_1.4': 1.44556764891297,\n",
       " 'radius_2': array(13.79773989),\n",
       " 'radius_lower_2': 3.2560524210952018,\n",
       " 'radius_upper_2': 1.4724380608383658,\n",
       " 'median_max_mass': 2.0398771477880606,\n",
       " 'radius_max': array(13.85882184),\n",
       " 'radius_lower_max': 3.1380450659318164,\n",
       " 'radius_upper_max': 1.4629695185527591,\n",
       " 'cs_2sat': array(0.14537894),\n",
       " 'cs_lower_2sat': 0.1431299131454666,\n",
       " 'cs_upper_2sat': 0.7814083051822388,\n",
       " 'cs_6sat': array(0.42492387),\n",
       " 'cs_lower_6sat': 0.41991829230465993,\n",
       " 'cs_upper_6sat': 0.5663360319973965,\n",
       " 'lambda': array(667.82494792),\n",
       " 'lambda_lower': 621.5706902823191,\n",
       " 'lambda_upper': 715.5602486998844}"
      ]
     },
     "execution_count": 24,
     "metadata": {},
     "output_type": "execute_result"
    }
   ],
   "source": [
    "diagnose_eos_set(a_1)"
   ]
  },
  {
   "cell_type": "code",
   "execution_count": 25,
   "id": "83d1e7c2-d03c-4788-ba44-adc2bdae3e35",
   "metadata": {},
   "outputs": [
    {
     "name": "stdout",
     "output_type": "stream",
     "text": [
      "For the set <HDF5 file \"g.7_a.5_cl.01.h5\" (mode r)>: \n",
      "Median pressure at 2x nuclear saturation density- 3.2582347162508434e+34 \n",
      "Lower \u0007and upper bound for quartile pressure at 2x nuclear saturation density- 2.7219330311235776e+34, 1.4199025286657067e+35 \n",
      "Median pressure at 6x nuclear saturation density- 4.8549318062202254e+35 \n",
      "Lower \u0007and upper bound for quartile pressure at 6x nuclear saturation density- 4.6338933720821266e+35, 1.8744827344243522e+36 \n",
      "Median radius at 1.4 solar masses 12.928090391055976 \n",
      "Lower \u0007and upper bound for quartile radius at 1.4 solar masses- 3.920160737019021, 1.4400077085294978 \n",
      "Median radius at 2 solar masses 13.760263352046106 \n",
      "Lower \u0007and upper bound for quartile radius at 2 solar masses- 3.1576020249961196, 1.4735521254087924 \n",
      "Median max mass 2.0187142920526053 \n",
      "Median radius at median max mass 13.793241517060597 \n",
      "Lower \u0007and upper bound for quartile radius at median max mass- 3.1357603767557585, 1.4660360429144408 \n",
      "Median sound speed at 2x nuclear saturation density- 0.14841960577855423 \n",
      "Lower \u0007and upper bound for quartile sound speed at 2x nuclear saturation density- 0.14513176653260382, 0.7492907159306343 \n",
      "Median sound speed at 6x nuclear saturation density- 0.4405868718146145 \n",
      "Lower \u0007and upper bound for quartile sound speed at 6x nuclear saturation density- 0.43378058671662567, 0.5472639674614104 \n",
      "Median lambda at 1.4 solar masses 654.9723214415536 \n",
      "Lower \u0007and upper bound for quartile lambda at 1.4 solar masses- 609.4876253671998, 713.9700300193193\n"
     ]
    },
    {
     "data": {
      "text/plain": [
       "{'pressure_2sat': array(3.25823472e+34),\n",
       " 'p_lower_2sat': 2.7219330311235776e+34,\n",
       " 'p_upper_2sat': 1.4199025286657067e+35,\n",
       " 'pressure_6sat': array(4.85493181e+35),\n",
       " 'p_lower_6sat': 4.6338933720821266e+35,\n",
       " 'p_upper_6sat': 1.8744827344243522e+36,\n",
       " 'radius_1.4': array(12.92809039),\n",
       " 'radius_lower_1.4': 3.920160737019021,\n",
       " 'radius_upper_1.4': 1.4400077085294978,\n",
       " 'radius_2': array(13.76026335),\n",
       " 'radius_lower_2': 3.1576020249961196,\n",
       " 'radius_upper_2': 1.4735521254087924,\n",
       " 'median_max_mass': 2.0187142920526053,\n",
       " 'radius_max': array(13.79324152),\n",
       " 'radius_lower_max': 3.1357603767557585,\n",
       " 'radius_upper_max': 1.4660360429144408,\n",
       " 'cs_2sat': array(0.14841961),\n",
       " 'cs_lower_2sat': 0.14513176653260382,\n",
       " 'cs_upper_2sat': 0.7492907159306343,\n",
       " 'cs_6sat': array(0.44058687),\n",
       " 'cs_lower_6sat': 0.43378058671662567,\n",
       " 'cs_upper_6sat': 0.5472639674614104,\n",
       " 'lambda': array(654.97232144),\n",
       " 'lambda_lower': 609.4876253671998,\n",
       " 'lambda_upper': 713.9700300193193}"
      ]
     },
     "execution_count": 25,
     "metadata": {},
     "output_type": "execute_result"
    }
   ],
   "source": [
    "diagnose_eos_set(a_05)"
   ]
  },
  {
   "cell_type": "code",
   "execution_count": 14,
   "id": "a11420c5-786d-406e-8226-34c3eec18b78",
   "metadata": {},
   "outputs": [
    {
     "name": "stdout",
     "output_type": "stream",
     "text": [
      "For the set <HDF5 file \"g.7_a.1_cl.01.h5\" (mode r)>: \n",
      "Median pressure at 2x nuclear saturation density- 3.1304057286275134e+34 \n",
      "Lower \u0007and upper bound for quartile pressure at 2x nuclear saturation density- 2.4752804540477423e+34, 9.676098485606453e+34 \n",
      "Median pressure at 6x nuclear saturation density- 4.432417108956113e+35 \n",
      "Lower \u0007and upper bound for quartile pressure at 6x nuclear saturation density- 4.0373145331284744e+35, 1.4029478645930917e+36 \n",
      "Median radius at 1.4 solar masses 12.753323260953007 \n",
      "Lower \u0007and upper bound for quartile radius at 1.4 solar masses- 3.4825310024046523, 1.5001406091843599 \n",
      "Median radius at 2 solar masses 13.52296608831713 \n",
      "Lower \u0007and upper bound for quartile radius at 2 solar masses- 2.701722949366955, 1.53451389216867 \n",
      "Median max mass 1.9117522913512597 \n",
      "Median radius at median max mass 13.389031741000212 \n",
      "Lower \u0007and upper bound for quartile radius at median max mass- 2.8642445854972305, 1.5558894445357954 \n",
      "Median sound speed at 2x nuclear saturation density- 0.1450684223348789 \n",
      "Lower \u0007and upper bound for quartile sound speed at 2x nuclear saturation density- 0.13576559039882508, 0.5795280354752734 \n",
      "Median sound speed at 6x nuclear saturation density- 0.43120341016117775 \n",
      "Lower \u0007and upper bound for quartile sound speed at 6x nuclear saturation density- 0.4063433950950421, 0.5198343508448133 \n",
      "Median lambda at 1.4 solar masses 583.1031259190128 \n",
      "Lower \u0007and upper bound for quartile lambda at 1.4 solar masses- 530.4312227882277, 709.7408700124776\n"
     ]
    },
    {
     "data": {
      "text/plain": [
       "{'pressure_2sat': array(3.13040573e+34),\n",
       " 'p_lower_2sat': 2.4752804540477423e+34,\n",
       " 'p_upper_2sat': 9.676098485606453e+34,\n",
       " 'pressure_6sat': array(4.43241711e+35),\n",
       " 'p_lower_6sat': 4.0373145331284744e+35,\n",
       " 'p_upper_6sat': 1.4029478645930917e+36,\n",
       " 'radius_1.4': array(12.75332326),\n",
       " 'radius_lower_1.4': 3.4825310024046523,\n",
       " 'radius_upper_1.4': 1.5001406091843599,\n",
       " 'radius_2': array(13.52296609),\n",
       " 'radius_lower_2': 2.701722949366955,\n",
       " 'radius_upper_2': 1.53451389216867,\n",
       " 'median_max_mass': 1.9117522913512597,\n",
       " 'radius_max': array(13.38903174),\n",
       " 'radius_lower_max': 2.8642445854972305,\n",
       " 'radius_upper_max': 1.5558894445357954,\n",
       " 'cs_2sat': array(0.14506842),\n",
       " 'cs_lower_2sat': 0.13576559039882508,\n",
       " 'cs_upper_2sat': 0.5795280354752734,\n",
       " 'cs_6sat': array(0.43120341),\n",
       " 'cs_lower_6sat': 0.4063433950950421,\n",
       " 'cs_upper_6sat': 0.5198343508448133,\n",
       " 'lambda': array(583.10312592),\n",
       " 'lambda_lower': 530.4312227882277,\n",
       " 'lambda_upper': 709.7408700124776}"
      ]
     },
     "execution_count": 14,
     "metadata": {},
     "output_type": "execute_result"
    }
   ],
   "source": [
    "diagnose_eos_set(a_01)"
   ]
  },
  {
   "cell_type": "code",
   "execution_count": 28,
   "id": "d81db9f4-8044-4b28-8158-5e8db8bad3f3",
   "metadata": {},
   "outputs": [
    {
     "name": "stdout",
     "output_type": "stream",
     "text": [
      "For the set <HDF5 file \"g.7_a.01_cl.01.h5\" (mode r)>: \n",
      "Median pressure at 2x nuclear saturation density- 3.026519232337924e+34 \n",
      "Lower \u0007and upper bound for quartile pressure at 2x nuclear saturation density- 2.150659013731641e+34, 4.170021428723583e+34 \n",
      "Median pressure at 6x nuclear saturation density- 4.19903670947722e+35 \n",
      "Lower \u0007and upper bound for quartile pressure at 6x nuclear saturation density- 3.2052788434517338e+35, 6.380674339813248e+35 \n",
      "Median radius at 1.4 solar masses 12.300382778997239 \n",
      "Lower \u0007and upper bound for quartile radius at 1.4 solar masses- 2.724651787599907, 1.5472462364281494 \n",
      "Median radius at 2 solar masses 12.931605738326436 \n",
      "Lower \u0007and upper bound for quartile radius at 2 solar masses- 1.8255888310109523, 1.510361463451579 \n",
      "Median max mass 1.7571677552422185 \n",
      "Median radius at median max mass 12.555864134745454 \n",
      "Lower \u0007and upper bound for quartile radius at median max mass- 2.226383231807624, 1.6221904957349587 \n",
      "Median sound speed at 2x nuclear saturation density- 0.14941161619455323 \n",
      "Lower \u0007and upper bound for quartile sound speed at 2x nuclear saturation density- 0.11695253007037879, 0.2575806418299111 \n",
      "Median sound speed at 6x nuclear saturation density- 0.44204618154799963 \n",
      "Lower \u0007and upper bound for quartile sound speed at 6x nuclear saturation density- 0.325690880692733, 0.3446443983847603 \n",
      "Median lambda at 1.4 solar masses 422.48981938121227 \n",
      "Lower \u0007and upper bound for quartile lambda at 1.4 solar masses- 361.45018495652687, 588.5567092449974\n"
     ]
    },
    {
     "data": {
      "text/plain": [
       "{'pressure_2sat': array(3.02651923e+34),\n",
       " 'p_lower_2sat': 2.150659013731641e+34,\n",
       " 'p_upper_2sat': 4.170021428723583e+34,\n",
       " 'pressure_6sat': array(4.19903671e+35),\n",
       " 'p_lower_6sat': 3.2052788434517338e+35,\n",
       " 'p_upper_6sat': 6.380674339813248e+35,\n",
       " 'radius_1.4': array(12.30038278),\n",
       " 'radius_lower_1.4': 2.724651787599907,\n",
       " 'radius_upper_1.4': 1.5472462364281494,\n",
       " 'radius_2': array(12.93160574),\n",
       " 'radius_lower_2': 1.8255888310109523,\n",
       " 'radius_upper_2': 1.510361463451579,\n",
       " 'median_max_mass': 1.7571677552422185,\n",
       " 'radius_max': array(12.55586413),\n",
       " 'radius_lower_max': 2.226383231807624,\n",
       " 'radius_upper_max': 1.6221904957349587,\n",
       " 'cs_2sat': array(0.14941162),\n",
       " 'cs_lower_2sat': 0.11695253007037879,\n",
       " 'cs_upper_2sat': 0.2575806418299111,\n",
       " 'cs_6sat': array(0.44204618),\n",
       " 'cs_lower_6sat': 0.325690880692733,\n",
       " 'cs_upper_6sat': 0.3446443983847603,\n",
       " 'lambda': array(422.48981938),\n",
       " 'lambda_lower': 361.45018495652687,\n",
       " 'lambda_upper': 588.5567092449974}"
      ]
     },
     "execution_count": 28,
     "metadata": {},
     "output_type": "execute_result"
    }
   ],
   "source": [
    "diagnose_eos_set(a_001)"
   ]
  },
  {
   "cell_type": "code",
   "execution_count": 30,
   "id": "f41be167-ecdc-4929-b1c3-b938aa5c8c60",
   "metadata": {},
   "outputs": [
    {
     "name": "stdout",
     "output_type": "stream",
     "text": [
      "For the set <HDF5 file \"g.7_a.05_cl.01.h5\" (mode r)>: \n",
      "Median pressure at 2x nuclear saturation density- 3.0955196624787886e+34 \n",
      "Lower \u0007and upper bound for quartile pressure at 2x nuclear saturation density- 2.372100351801327e+34, 7.861937740247899e+34 \n",
      "Median pressure at 6x nuclear saturation density- 4.308588090423983e+35 \n",
      "Lower \u0007and upper bound for quartile pressure at 6x nuclear saturation density- 3.744198147067326e+35, 1.1481733522515826e+36 \n",
      "Median radius at 1.4 solar masses 12.639987751063483 \n",
      "Lower \u0007and upper bound for quartile radius at 1.4 solar masses- 3.274456655024986, 1.5297664380822162 \n",
      "Median radius at 2 solar masses 13.37202788582408 \n",
      "Lower \u0007and upper bound for quartile radius at 2 solar masses- 2.461097119143094, 1.5644216843017364 \n",
      "Median max mass 1.8274638197618 \n",
      "Median radius at median max mass 13.119492749493144 \n",
      "Lower \u0007and upper bound for quartile radius at median max mass- 2.743111940756039, 1.6051247648131248 \n",
      "Median sound speed at 2x nuclear saturation density- 0.14640174420755775 \n",
      "Lower \u0007and upper bound for quartile sound speed at 2x nuclear saturation density- 0.13072760770271874, 0.4771317624662044 \n",
      "Median sound speed at 6x nuclear saturation density- 0.43278378531305123 \n",
      "Lower \u0007and upper bound for quartile sound speed at 6x nuclear saturation density- 0.38650352364873997, 0.48332364221745955 \n",
      "Median lambda at 1.4 solar masses 535.2150295633973 \n",
      "Lower \u0007and upper bound for quartile lambda at 1.4 solar masses- 480.642995676945, 692.6369578251944\n"
     ]
    },
    {
     "data": {
      "text/plain": [
       "{'pressure_2sat': array(3.09551966e+34),\n",
       " 'p_lower_2sat': 2.372100351801327e+34,\n",
       " 'p_upper_2sat': 7.861937740247899e+34,\n",
       " 'pressure_6sat': array(4.30858809e+35),\n",
       " 'p_lower_6sat': 3.744198147067326e+35,\n",
       " 'p_upper_6sat': 1.1481733522515826e+36,\n",
       " 'radius_1.4': array(12.63998775),\n",
       " 'radius_lower_1.4': 3.274456655024986,\n",
       " 'radius_upper_1.4': 1.5297664380822162,\n",
       " 'radius_2': array(13.37202789),\n",
       " 'radius_lower_2': 2.461097119143094,\n",
       " 'radius_upper_2': 1.5644216843017364,\n",
       " 'median_max_mass': 1.8274638197618,\n",
       " 'radius_max': array(13.11949275),\n",
       " 'radius_lower_max': 2.743111940756039,\n",
       " 'radius_upper_max': 1.6051247648131248,\n",
       " 'cs_2sat': array(0.14640174),\n",
       " 'cs_lower_2sat': 0.13072760770271874,\n",
       " 'cs_upper_2sat': 0.4771317624662044,\n",
       " 'cs_6sat': array(0.43278379),\n",
       " 'cs_lower_6sat': 0.38650352364873997,\n",
       " 'cs_upper_6sat': 0.48332364221745955,\n",
       " 'lambda': array(535.21502956),\n",
       " 'lambda_lower': 480.642995676945,\n",
       " 'lambda_upper': 692.6369578251944}"
      ]
     },
     "execution_count": 30,
     "metadata": {},
     "output_type": "execute_result"
    }
   ],
   "source": [
    "diagnose_eos_set(a_005)"
   ]
  },
  {
   "cell_type": "code",
   "execution_count": 22,
   "id": "8354b5ea-0c28-49ae-957e-c83277b6bac2",
   "metadata": {},
   "outputs": [
    {
     "ename": "KeyError",
     "evalue": "\"Unable to synchronously open object (object 'ns' doesn't exist)\"",
     "output_type": "error",
     "traceback": [
      "\u001b[31m---------------------------------------------------------------------------\u001b[39m",
      "\u001b[31mKeyError\u001b[39m                                  Traceback (most recent call last)",
      "\u001b[36mCell\u001b[39m\u001b[36m \u001b[39m\u001b[32mIn[22]\u001b[39m\u001b[32m, line 1\u001b[39m\n\u001b[32m----> \u001b[39m\u001b[32m1\u001b[39m \u001b[43mdiagnose_eos_set\u001b[49m\u001b[43m(\u001b[49m\u001b[43mcl_0001\u001b[49m\u001b[43m)\u001b[49m \u001b[38;5;66;03m#cl_0001 , cl_001, cl_005, cl_01, cl_sr01, cl_1\u001b[39;00m\n",
      "\u001b[36mCell\u001b[39m\u001b[36m \u001b[39m\u001b[32mIn[12]\u001b[39m\u001b[32m, line 3\u001b[39m, in \u001b[36mdiagnose_eos_set\u001b[39m\u001b[34m(eos_set, percentile, verbose)\u001b[39m\n\u001b[32m      1\u001b[39m \u001b[38;5;28;01mdef\u001b[39;00m \u001b[34mdiagnose_eos_set\u001b[39m(eos_set, percentile = [\u001b[32m5\u001b[39m, \u001b[32m95\u001b[39m], verbose = \u001b[38;5;28;01mTrue\u001b[39;00m):\n\u001b[32m      2\u001b[39m     eos_to_be_used = np.arange(\u001b[38;5;28mlen\u001b[39m(eos_set[\u001b[33m\"\u001b[39m\u001b[33meos\u001b[39m\u001b[33m\"\u001b[39m]))\n\u001b[32m----> \u001b[39m\u001b[32m3\u001b[39m     eos_to_be_used = np.arange(\u001b[38;5;28mlen\u001b[39m(\u001b[43meos_set\u001b[49m\u001b[43m[\u001b[49m\u001b[33;43m\"\u001b[39;49m\u001b[33;43mns\u001b[39;49m\u001b[33;43m\"\u001b[39;49m\u001b[43m]\u001b[49m))\n\u001b[32m      4\u001b[39m     percentiles_median = [\u001b[32m50\u001b[39m,\u001b[32m95\u001b[39m];\n\u001b[32m      5\u001b[39m     percentiles_quartile = percentile;\n",
      "\u001b[36mFile \u001b[39m\u001b[32mh5py/_objects.pyx:54\u001b[39m, in \u001b[36mh5py._objects.with_phil.wrapper\u001b[39m\u001b[34m()\u001b[39m\n",
      "\u001b[36mFile \u001b[39m\u001b[32mh5py/_objects.pyx:55\u001b[39m, in \u001b[36mh5py._objects.with_phil.wrapper\u001b[39m\u001b[34m()\u001b[39m\n",
      "\u001b[36mFile \u001b[39m\u001b[32m/cvmfs/software.igwn.org/conda/envs/igwn-py311/lib/python3.11/site-packages/h5py/_hl/group.py:360\u001b[39m, in \u001b[36mGroup.__getitem__\u001b[39m\u001b[34m(self, name)\u001b[39m\n\u001b[32m    358\u001b[39m         \u001b[38;5;28;01mraise\u001b[39;00m \u001b[38;5;167;01mValueError\u001b[39;00m(\u001b[33m\"\u001b[39m\u001b[33mInvalid HDF5 object reference\u001b[39m\u001b[33m\"\u001b[39m)\n\u001b[32m    359\u001b[39m \u001b[38;5;28;01melif\u001b[39;00m \u001b[38;5;28misinstance\u001b[39m(name, (\u001b[38;5;28mbytes\u001b[39m, \u001b[38;5;28mstr\u001b[39m)):\n\u001b[32m--> \u001b[39m\u001b[32m360\u001b[39m     oid = \u001b[43mh5o\u001b[49m\u001b[43m.\u001b[49m\u001b[43mopen\u001b[49m\u001b[43m(\u001b[49m\u001b[38;5;28;43mself\u001b[39;49m\u001b[43m.\u001b[49m\u001b[43mid\u001b[49m\u001b[43m,\u001b[49m\u001b[43m \u001b[49m\u001b[38;5;28;43mself\u001b[39;49m\u001b[43m.\u001b[49m\u001b[43m_e\u001b[49m\u001b[43m(\u001b[49m\u001b[43mname\u001b[49m\u001b[43m)\u001b[49m\u001b[43m,\u001b[49m\u001b[43m \u001b[49m\u001b[43mlapl\u001b[49m\u001b[43m=\u001b[49m\u001b[38;5;28;43mself\u001b[39;49m\u001b[43m.\u001b[49m\u001b[43m_lapl\u001b[49m\u001b[43m)\u001b[49m\n\u001b[32m    361\u001b[39m \u001b[38;5;28;01melse\u001b[39;00m:\n\u001b[32m    362\u001b[39m     \u001b[38;5;28;01mraise\u001b[39;00m \u001b[38;5;167;01mTypeError\u001b[39;00m(\u001b[33m\"\u001b[39m\u001b[33mAccessing a group is done with bytes or str, \u001b[39m\u001b[33m\"\u001b[39m\n\u001b[32m    363\u001b[39m                     \u001b[33m\"\u001b[39m\u001b[33mnot \u001b[39m\u001b[38;5;132;01m{}\u001b[39;00m\u001b[33m\"\u001b[39m.format(\u001b[38;5;28mtype\u001b[39m(name)))\n",
      "\u001b[36mFile \u001b[39m\u001b[32mh5py/_objects.pyx:54\u001b[39m, in \u001b[36mh5py._objects.with_phil.wrapper\u001b[39m\u001b[34m()\u001b[39m\n",
      "\u001b[36mFile \u001b[39m\u001b[32mh5py/_objects.pyx:55\u001b[39m, in \u001b[36mh5py._objects.with_phil.wrapper\u001b[39m\u001b[34m()\u001b[39m\n",
      "\u001b[36mFile \u001b[39m\u001b[32mh5py/h5o.pyx:257\u001b[39m, in \u001b[36mh5py.h5o.open\u001b[39m\u001b[34m()\u001b[39m\n",
      "\u001b[31mKeyError\u001b[39m: \"Unable to synchronously open object (object 'ns' doesn't exist)\""
     ]
    }
   ],
   "source": [
    "diagnose_eos_set(cl_0001) #cl_0001 , cl_001, cl_005, cl_01, cl_sr01, cl_1"
   ]
  },
  {
   "cell_type": "code",
   "execution_count": 27,
   "id": "d5546b35-e8e8-4f3b-a196-4a198a5a726f",
   "metadata": {},
   "outputs": [
    {
     "name": "stdout",
     "output_type": "stream",
     "text": [
      "For the set <HDF5 file \"g.7_a1._cl.01.h5\" (mode r)>: \n",
      "Median pressure at 2x nuclear saturation density- 3.1657425287981534e+34 \n",
      "Lower \u0007and upper bound for quartile pressure at 2x nuclear saturation density- 2.65400195286234e+34, 1.547892560504343e+35 \n",
      "Median pressure at 6x nuclear saturation density- 4.836662576167329e+35 \n",
      "Lower \u0007and upper bound for quartile pressure at 6x nuclear saturation density- 4.649542032617266e+35, 1.9807267806850263e+36 \n",
      "Median radius at 1.4 solar masses 12.94570439031916 \n",
      "Lower \u0007and upper bound for quartile radius at 1.4 solar masses- 3.94525781247831, 1.44556764891297 \n",
      "Median radius at 2 solar masses 13.79773989129582 \n",
      "Lower \u0007and upper bound for quartile radius at 2 solar masses- 3.2560524210952018, 1.4724380608383658 \n",
      "Median max mass 2.0398771477880606 \n",
      "Median radius at median max mass 13.858821837453076 \n",
      "Lower \u0007and upper bound for quartile radius at median max mass- 3.1380450659318164, 1.4629695185527591 \n",
      "Median sound speed at 2x nuclear saturation density- 0.14537894462482415 \n",
      "Lower \u0007and upper bound for quartile sound speed at 2x nuclear saturation density- 0.1431299131454666, 0.7814083051822388 \n",
      "Median sound speed at 6x nuclear saturation density- 0.424923867633349 \n",
      "Lower \u0007and upper bound for quartile sound speed at 6x nuclear saturation density- 0.41991829230465993, 0.5663360319973965 \n",
      "Median lambda at 1.4 solar masses 667.824947919587 \n",
      "Lower \u0007and upper bound for quartile lambda at 1.4 solar masses- 621.5706902823191, 715.5602486998844\n"
     ]
    },
    {
     "data": {
      "text/plain": [
       "{'pressure_2sat': array(3.16574253e+34),\n",
       " 'p_lower_2sat': 2.65400195286234e+34,\n",
       " 'p_upper_2sat': 1.547892560504343e+35,\n",
       " 'pressure_6sat': array(4.83666258e+35),\n",
       " 'p_lower_6sat': 4.649542032617266e+35,\n",
       " 'p_upper_6sat': 1.9807267806850263e+36,\n",
       " 'radius_1.4': array(12.94570439),\n",
       " 'radius_lower_1.4': 3.94525781247831,\n",
       " 'radius_upper_1.4': 1.44556764891297,\n",
       " 'radius_2': array(13.79773989),\n",
       " 'radius_lower_2': 3.2560524210952018,\n",
       " 'radius_upper_2': 1.4724380608383658,\n",
       " 'median_max_mass': 2.0398771477880606,\n",
       " 'radius_max': array(13.85882184),\n",
       " 'radius_lower_max': 3.1380450659318164,\n",
       " 'radius_upper_max': 1.4629695185527591,\n",
       " 'cs_2sat': array(0.14537894),\n",
       " 'cs_lower_2sat': 0.1431299131454666,\n",
       " 'cs_upper_2sat': 0.7814083051822388,\n",
       " 'cs_6sat': array(0.42492387),\n",
       " 'cs_lower_6sat': 0.41991829230465993,\n",
       " 'cs_upper_6sat': 0.5663360319973965,\n",
       " 'lambda': array(667.82494792),\n",
       " 'lambda_lower': 621.5706902823191,\n",
       " 'lambda_upper': 715.5602486998844}"
      ]
     },
     "execution_count": 27,
     "metadata": {},
     "output_type": "execute_result"
    }
   ],
   "source": [
    "diagnose_eos_set(cl_001)"
   ]
  },
  {
   "cell_type": "code",
   "execution_count": 31,
   "id": "78d023ff-9cca-4a42-93b7-9cbf6c6ec37b",
   "metadata": {},
   "outputs": [
    {
     "name": "stdout",
     "output_type": "stream",
     "text": [
      "For the set <HDF5 file \"g.7_a1._cl.05.h5\" (mode r)>: \n",
      "Median pressure at 2x nuclear saturation density- 2.962203169902931e+34 \n",
      "Lower \u0007and upper bound for quartile pressure at 2x nuclear saturation density- 2.123281791755349e+34, 4.4639262611863205e+34 \n",
      "Median pressure at 6x nuclear saturation density- 4.042897291326444e+35 \n",
      "Lower \u0007and upper bound for quartile pressure at 6x nuclear saturation density- 3.628369045028417e+35, 1.2187201632486042e+36 \n",
      "Median radius at 1.4 solar masses 12.48256263188913 \n",
      "Lower \u0007and upper bound for quartile radius at 1.4 solar masses- 2.910997412370996, 1.2553818250760127 \n",
      "Median radius at 2 solar masses 12.905536009971296 \n",
      "Lower \u0007and upper bound for quartile radius at 2 solar masses- 2.042810328183137, 1.3360153332817841 \n",
      "Median max mass 1.7473784669810155 \n",
      "Median radius at median max mass 12.697111616887558 \n",
      "Lower \u0007and upper bound for quartile radius at median max mass- 2.5649791860219384, 1.342068283354811 \n",
      "Median sound speed at 2x nuclear saturation density- 0.14906423353958326 \n",
      "Lower \u0007and upper bound for quartile sound speed at 2x nuclear saturation density- 0.12215058160975426, 0.3258317421563933 \n",
      "Median sound speed at 6x nuclear saturation density- 0.4356349935367711 \n",
      "Lower \u0007and upper bound for quartile sound speed at 6x nuclear saturation density- 0.40623387324582516, 0.5130262841752995 \n",
      "Median lambda at 1.4 solar masses 478.48943364112364 \n",
      "Lower \u0007and upper bound for quartile lambda at 1.4 solar masses- 416.1604517860868, 477.09891919570765\n"
     ]
    },
    {
     "data": {
      "text/plain": [
       "{'pressure_2sat': array(2.96220317e+34),\n",
       " 'p_lower_2sat': 2.123281791755349e+34,\n",
       " 'p_upper_2sat': 4.4639262611863205e+34,\n",
       " 'pressure_6sat': array(4.04289729e+35),\n",
       " 'p_lower_6sat': 3.628369045028417e+35,\n",
       " 'p_upper_6sat': 1.2187201632486042e+36,\n",
       " 'radius_1.4': array(12.48256263),\n",
       " 'radius_lower_1.4': 2.910997412370996,\n",
       " 'radius_upper_1.4': 1.2553818250760127,\n",
       " 'radius_2': array(12.90553601),\n",
       " 'radius_lower_2': 2.042810328183137,\n",
       " 'radius_upper_2': 1.3360153332817841,\n",
       " 'median_max_mass': 1.7473784669810155,\n",
       " 'radius_max': array(12.69711162),\n",
       " 'radius_lower_max': 2.5649791860219384,\n",
       " 'radius_upper_max': 1.342068283354811,\n",
       " 'cs_2sat': array(0.14906423),\n",
       " 'cs_lower_2sat': 0.12215058160975426,\n",
       " 'cs_upper_2sat': 0.3258317421563933,\n",
       " 'cs_6sat': array(0.43563499),\n",
       " 'cs_lower_6sat': 0.40623387324582516,\n",
       " 'cs_upper_6sat': 0.5130262841752995,\n",
       " 'lambda': array(478.48943364),\n",
       " 'lambda_lower': 416.1604517860868,\n",
       " 'lambda_upper': 477.09891919570765}"
      ]
     },
     "execution_count": 31,
     "metadata": {},
     "output_type": "execute_result"
    }
   ],
   "source": [
    "diagnose_eos_set(cl_005)"
   ]
  },
  {
   "cell_type": "code",
   "execution_count": 31,
   "id": "15cdefc6-7e76-4ace-a3d4-598efb3ff2e2",
   "metadata": {},
   "outputs": [
    {
     "ename": "KeyError",
     "evalue": "'Unable to synchronously open object (invalid identifier type to function)'",
     "output_type": "error",
     "traceback": [
      "\u001b[31m---------------------------------------------------------------------------\u001b[39m",
      "\u001b[31mKeyError\u001b[39m                                  Traceback (most recent call last)",
      "\u001b[36mCell\u001b[39m\u001b[36m \u001b[39m\u001b[32mIn[31]\u001b[39m\u001b[32m, line 1\u001b[39m\n\u001b[32m----> \u001b[39m\u001b[32m1\u001b[39m \u001b[43mdiagnose_eos_set\u001b[49m\u001b[43m(\u001b[49m\u001b[43mcl_01\u001b[49m\u001b[43m)\u001b[49m\n",
      "\u001b[36mCell\u001b[39m\u001b[36m \u001b[39m\u001b[32mIn[25]\u001b[39m\u001b[32m, line 2\u001b[39m, in \u001b[36mdiagnose_eos_set\u001b[39m\u001b[34m(eos_set, percentile, verbose)\u001b[39m\n\u001b[32m      1\u001b[39m \u001b[38;5;28;01mdef\u001b[39;00m \u001b[34mdiagnose_eos_set\u001b[39m(eos_set, percentile = [\u001b[32m5\u001b[39m, \u001b[32m95\u001b[39m], verbose = \u001b[38;5;28;01mTrue\u001b[39;00m):\n\u001b[32m----> \u001b[39m\u001b[32m2\u001b[39m     eos_to_be_used = np.arange(\u001b[38;5;28mlen\u001b[39m(\u001b[43meos_set\u001b[49m\u001b[43m[\u001b[49m\u001b[33;43m\"\u001b[39;49m\u001b[33;43meos\u001b[39;49m\u001b[33;43m\"\u001b[39;49m\u001b[43m]\u001b[49m))\n\u001b[32m      3\u001b[39m     eos_to_be_used_ns = np.arange(\u001b[38;5;28mlen\u001b[39m(eos_set[\u001b[33m\"\u001b[39m\u001b[33mns\u001b[39m\u001b[33m\"\u001b[39m]))\n\u001b[32m      4\u001b[39m     percentiles_median = [\u001b[32m50\u001b[39m,\u001b[32m95\u001b[39m];\n",
      "\u001b[36mFile \u001b[39m\u001b[32mh5py/_objects.pyx:54\u001b[39m, in \u001b[36mh5py._objects.with_phil.wrapper\u001b[39m\u001b[34m()\u001b[39m\n",
      "\u001b[36mFile \u001b[39m\u001b[32mh5py/_objects.pyx:55\u001b[39m, in \u001b[36mh5py._objects.with_phil.wrapper\u001b[39m\u001b[34m()\u001b[39m\n",
      "\u001b[36mFile \u001b[39m\u001b[32m/cvmfs/software.igwn.org/conda/envs/igwn-py311/lib/python3.11/site-packages/h5py/_hl/group.py:360\u001b[39m, in \u001b[36mGroup.__getitem__\u001b[39m\u001b[34m(self, name)\u001b[39m\n\u001b[32m    358\u001b[39m         \u001b[38;5;28;01mraise\u001b[39;00m \u001b[38;5;167;01mValueError\u001b[39;00m(\u001b[33m\"\u001b[39m\u001b[33mInvalid HDF5 object reference\u001b[39m\u001b[33m\"\u001b[39m)\n\u001b[32m    359\u001b[39m \u001b[38;5;28;01melif\u001b[39;00m \u001b[38;5;28misinstance\u001b[39m(name, (\u001b[38;5;28mbytes\u001b[39m, \u001b[38;5;28mstr\u001b[39m)):\n\u001b[32m--> \u001b[39m\u001b[32m360\u001b[39m     oid = \u001b[43mh5o\u001b[49m\u001b[43m.\u001b[49m\u001b[43mopen\u001b[49m\u001b[43m(\u001b[49m\u001b[38;5;28;43mself\u001b[39;49m\u001b[43m.\u001b[49m\u001b[43mid\u001b[49m\u001b[43m,\u001b[49m\u001b[43m \u001b[49m\u001b[38;5;28;43mself\u001b[39;49m\u001b[43m.\u001b[49m\u001b[43m_e\u001b[49m\u001b[43m(\u001b[49m\u001b[43mname\u001b[49m\u001b[43m)\u001b[49m\u001b[43m,\u001b[49m\u001b[43m \u001b[49m\u001b[43mlapl\u001b[49m\u001b[43m=\u001b[49m\u001b[38;5;28;43mself\u001b[39;49m\u001b[43m.\u001b[49m\u001b[43m_lapl\u001b[49m\u001b[43m)\u001b[49m\n\u001b[32m    361\u001b[39m \u001b[38;5;28;01melse\u001b[39;00m:\n\u001b[32m    362\u001b[39m     \u001b[38;5;28;01mraise\u001b[39;00m \u001b[38;5;167;01mTypeError\u001b[39;00m(\u001b[33m\"\u001b[39m\u001b[33mAccessing a group is done with bytes or str, \u001b[39m\u001b[33m\"\u001b[39m\n\u001b[32m    363\u001b[39m                     \u001b[33m\"\u001b[39m\u001b[33mnot \u001b[39m\u001b[38;5;132;01m{}\u001b[39;00m\u001b[33m\"\u001b[39m.format(\u001b[38;5;28mtype\u001b[39m(name)))\n",
      "\u001b[36mFile \u001b[39m\u001b[32mh5py/_objects.pyx:54\u001b[39m, in \u001b[36mh5py._objects.with_phil.wrapper\u001b[39m\u001b[34m()\u001b[39m\n",
      "\u001b[36mFile \u001b[39m\u001b[32mh5py/_objects.pyx:55\u001b[39m, in \u001b[36mh5py._objects.with_phil.wrapper\u001b[39m\u001b[34m()\u001b[39m\n",
      "\u001b[36mFile \u001b[39m\u001b[32mh5py/h5o.pyx:257\u001b[39m, in \u001b[36mh5py.h5o.open\u001b[39m\u001b[34m()\u001b[39m\n",
      "\u001b[31mKeyError\u001b[39m: 'Unable to synchronously open object (invalid identifier type to function)'"
     ]
    }
   ],
   "source": [
    "diagnose_eos_set(cl_01)"
   ]
  },
  {
   "cell_type": "code",
   "execution_count": 35,
   "id": "841863e9-f22d-41e4-b9d5-a806a004fc64",
   "metadata": {},
   "outputs": [
    {
     "name": "stdout",
     "output_type": "stream",
     "text": [
      "For the set <HDF5 file \"g.7_a1._clsr.1.h5\" (mode r)>: \n",
      "Median pressure at 2x nuclear saturation density- 3.055361095781963e+34 \n",
      "Lower \u0007and upper bound for quartile pressure at 2x nuclear saturation density- 2.0558047986553454e+34, 2.0536449459071502e+34 \n",
      "Median pressure at 6x nuclear saturation density- 4.1822343691593854e+35 \n",
      "Lower \u0007and upper bound for quartile pressure at 6x nuclear saturation density- 2.943809437791394e+35, 3.4950129936748266e+35 \n",
      "Median radius at 1.4 solar masses 12.097024530057837 \n",
      "Lower \u0007and upper bound for quartile radius at 1.4 solar masses- 2.334794923120098, 1.2832364594665968 \n",
      "Median radius at 2 solar masses 12.353707353944447 \n",
      "Lower \u0007and upper bound for quartile radius at 2 solar masses- 1.1576100468468944, 1.0647221286831439 \n",
      "Median max mass 1.7350508436455252 \n",
      "Median radius at median max mass 12.124788485673806 \n",
      "Lower \u0007and upper bound for quartile radius at median max mass- 1.7208517281867888, 1.289234019659192 \n",
      "Median sound speed at 2x nuclear saturation density- 0.15681233210032403 \n",
      "Lower \u0007and upper bound for quartile sound speed at 2x nuclear saturation density- 0.10755499037425595, 0.10698087267815803 \n",
      "Median sound speed at 6x nuclear saturation density- 0.4449540128502262 \n",
      "Lower \u0007and upper bound for quartile sound speed at 6x nuclear saturation density- 0.2767819448540313, 0.21994594292240965 \n",
      "Median lambda at 1.4 solar masses 361.9807336124202 \n",
      "Lower \u0007and upper bound for quartile lambda at 1.4 solar masses- 290.45380509925604, 403.90218644580557\n"
     ]
    },
    {
     "data": {
      "text/plain": [
       "{'pressure_2sat': array(3.0553611e+34),\n",
       " 'p_lower_2sat': 2.0558047986553454e+34,\n",
       " 'p_upper_2sat': 2.0536449459071502e+34,\n",
       " 'pressure_6sat': array(4.18223437e+35),\n",
       " 'p_lower_6sat': 2.943809437791394e+35,\n",
       " 'p_upper_6sat': 3.4950129936748266e+35,\n",
       " 'radius_1.4': array(12.09702453),\n",
       " 'radius_lower_1.4': 2.334794923120098,\n",
       " 'radius_upper_1.4': 1.2832364594665968,\n",
       " 'radius_2': array(12.35370735),\n",
       " 'radius_lower_2': 1.1576100468468944,\n",
       " 'radius_upper_2': 1.0647221286831439,\n",
       " 'median_max_mass': 1.7350508436455252,\n",
       " 'radius_max': array(12.12478849),\n",
       " 'radius_lower_max': 1.7208517281867888,\n",
       " 'radius_upper_max': 1.289234019659192,\n",
       " 'cs_2sat': array(0.15681233),\n",
       " 'cs_lower_2sat': 0.10755499037425595,\n",
       " 'cs_upper_2sat': 0.10698087267815803,\n",
       " 'cs_6sat': array(0.44495401),\n",
       " 'cs_lower_6sat': 0.2767819448540313,\n",
       " 'cs_upper_6sat': 0.21994594292240965,\n",
       " 'lambda': array(361.98073361),\n",
       " 'lambda_lower': 290.45380509925604,\n",
       " 'lambda_upper': 403.90218644580557}"
      ]
     },
     "execution_count": 35,
     "metadata": {},
     "output_type": "execute_result"
    }
   ],
   "source": [
    "diagnose_eos_set(cl_sr01)"
   ]
  },
  {
   "cell_type": "code",
   "execution_count": 36,
   "id": "43cf0caa-3000-4413-aadb-eb3110079142",
   "metadata": {},
   "outputs": [
    {
     "name": "stdout",
     "output_type": "stream",
     "text": [
      "For the set <HDF5 file \"g.7_a1._cl1..h5\" (mode r)>: \n",
      "Median pressure at 2x nuclear saturation density- 3.072621670026849e+34 \n",
      "Lower \u0007and upper bound for quartile pressure at 2x nuclear saturation density- 2.0667590696946762e+34, 1.9747012655130286e+34 \n",
      "Median pressure at 6x nuclear saturation density- 4.249823565418301e+35 \n",
      "Lower \u0007and upper bound for quartile pressure at 6x nuclear saturation density- 2.9386022306248525e+35, 2.7720850943454996e+35 \n",
      "Median radius at 1.4 solar masses 12.072270973612836 \n",
      "Lower \u0007and upper bound for quartile radius at 1.4 solar masses- 2.340378218362842, 1.2926377796906454 \n",
      "Median radius at 2 solar masses 12.31058814321658 \n",
      "Lower \u0007and upper bound for quartile radius at 2 solar masses- 0.9968953262233224, 1.0208766461125158 \n",
      "Median max mass 1.7414295318901505 \n",
      "Median radius at median max mass 12.114147406314885 \n",
      "Lower \u0007and upper bound for quartile radius at median max mass- 1.6201353093030448, 1.2489625638191093 \n",
      "Median sound speed at 2x nuclear saturation density- 0.15788161849013957 \n",
      "Lower \u0007and upper bound for quartile sound speed at 2x nuclear saturation density- 0.10829995353388175, 0.09584065655042354 \n",
      "Median sound speed at 6x nuclear saturation density- 0.45369382023517996 \n",
      "Lower \u0007and upper bound for quartile sound speed at 6x nuclear saturation density- 0.2692484912953056, 0.15658238044644074 \n",
      "Median lambda at 1.4 solar masses 355.3642770809939 \n",
      "Lower \u0007and upper bound for quartile lambda at 1.4 solar masses- 286.3398067678615, 397.4633628827974\n"
     ]
    },
    {
     "data": {
      "text/plain": [
       "{'pressure_2sat': array(3.07262167e+34),\n",
       " 'p_lower_2sat': 2.0667590696946762e+34,\n",
       " 'p_upper_2sat': 1.9747012655130286e+34,\n",
       " 'pressure_6sat': array(4.24982357e+35),\n",
       " 'p_lower_6sat': 2.9386022306248525e+35,\n",
       " 'p_upper_6sat': 2.7720850943454996e+35,\n",
       " 'radius_1.4': array(12.07227097),\n",
       " 'radius_lower_1.4': 2.340378218362842,\n",
       " 'radius_upper_1.4': 1.2926377796906454,\n",
       " 'radius_2': array(12.31058814),\n",
       " 'radius_lower_2': 0.9968953262233224,\n",
       " 'radius_upper_2': 1.0208766461125158,\n",
       " 'median_max_mass': 1.7414295318901505,\n",
       " 'radius_max': array(12.11414741),\n",
       " 'radius_lower_max': 1.6201353093030448,\n",
       " 'radius_upper_max': 1.2489625638191093,\n",
       " 'cs_2sat': array(0.15788162),\n",
       " 'cs_lower_2sat': 0.10829995353388175,\n",
       " 'cs_upper_2sat': 0.09584065655042354,\n",
       " 'cs_6sat': array(0.45369382),\n",
       " 'cs_lower_6sat': 0.2692484912953056,\n",
       " 'cs_upper_6sat': 0.15658238044644074,\n",
       " 'lambda': array(355.36427708),\n",
       " 'lambda_lower': 286.3398067678615,\n",
       " 'lambda_upper': 397.4633628827974}"
      ]
     },
     "execution_count": 36,
     "metadata": {},
     "output_type": "execute_result"
    }
   ],
   "source": [
    "diagnose_eos_set(cl_1)"
   ]
  },
  {
   "cell_type": "code",
   "execution_count": 69,
   "id": "f73f46a4-0740-45ce-a5d4-6ae3632ec788",
   "metadata": {},
   "outputs": [],
   "source": [
    "\n",
    "lam_sigmas_g7 = get_lambda_quantiles(eos_to_be_used, macro_g7, plot_masses, [50,95], cutoff = 30., verbose =  False)\n"
   ]
  },
  {
   "cell_type": "code",
   "execution_count": 70,
   "id": "7e8bb627-c77b-4660-af52-efd88be70dc6",
   "metadata": {},
   "outputs": [],
   "source": [
    "int_func_l = interpolate.interp1d(plot_masses, lam_sigmas_g7[:,0])\n",
    "median_lam = int_func_l(1.5)"
   ]
  },
  {
   "cell_type": "code",
   "execution_count": 71,
   "id": "3c163155-1e11-4ce8-b705-63f8807fdcbe",
   "metadata": {},
   "outputs": [
    {
     "data": {
      "text/plain": [
       "array(474.31859803)"
      ]
     },
     "execution_count": 71,
     "metadata": {},
     "output_type": "execute_result"
    }
   ],
   "source": [
    "median_lam\n"
   ]
  },
  {
   "cell_type": "code",
   "execution_count": 86,
   "id": "16c25171-6eea-44e3-9958-4fc34627ed23",
   "metadata": {},
   "outputs": [],
   "source": [
    "mean_max_mass = get_max_mass_quantiles(eos_to_be_used, macro_g7, [50], cutoff = 30.)"
   ]
  },
  {
   "cell_type": "code",
   "execution_count": 89,
   "id": "d21c26c1-0462-4130-9b71-fded904f6bfc",
   "metadata": {},
   "outputs": [
    {
     "data": {
      "text/plain": [
       "2.0398771477880606"
      ]
     },
     "execution_count": 89,
     "metadata": {},
     "output_type": "execute_result"
    }
   ],
   "source": [
    "mean_max_mass[0]\n"
   ]
  },
  {
   "cell_type": "code",
   "execution_count": null,
   "id": "e6e27f7f-a94e-4696-b8ed-7fc57194098d",
   "metadata": {},
   "outputs": [],
   "source": []
  }
 ],
 "metadata": {
  "kernelspec": {
   "display_name": "igwn-py311",
   "language": "python",
   "name": "igwn-py311"
  },
  "language_info": {
   "codemirror_mode": {
    "name": "ipython",
    "version": 3
   },
   "file_extension": ".py",
   "mimetype": "text/x-python",
   "name": "python",
   "nbconvert_exporter": "python",
   "pygments_lexer": "ipython3",
   "version": "3.11.13"
  }
 },
 "nbformat": 4,
 "nbformat_minor": 5
}
